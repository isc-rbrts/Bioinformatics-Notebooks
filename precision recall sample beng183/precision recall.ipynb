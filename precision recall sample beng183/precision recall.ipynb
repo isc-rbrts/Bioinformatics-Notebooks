{
 "cells": [
  {
   "cell_type": "code",
   "execution_count": 1,
   "id": "0cf1af30",
   "metadata": {
    "ExecuteTime": {
     "end_time": "2023-11-30T03:18:35.105931Z",
     "start_time": "2023-11-30T03:18:29.442727Z"
    }
   },
   "outputs": [],
   "source": [
    "import numpy as np\n",
    "import pandas as pd\n",
    "import scipy as scp\n",
    "import sklearn as sk\n",
    "from sklearn.linear_model import LogisticRegression\n",
    "from sklearn import model_selection as ms\n",
    "import matplotlib.pyplot as plt\n",
    "from sklearn import metrics"
   ]
  },
  {
   "cell_type": "code",
   "execution_count": 2,
   "id": "5d2f5362",
   "metadata": {
    "ExecuteTime": {
     "end_time": "2023-11-30T03:18:35.206704Z",
     "start_time": "2023-11-30T03:18:35.108221Z"
    }
   },
   "outputs": [],
   "source": [
    "cellA = pd.read_csv(\"celltypeA.txt\",index_col=0, header=0)\n",
    "cellB = pd.read_csv(\"celltypeB.txt\", index_col=0, header=0)\n",
    "cellC = pd.read_csv(\"celltypeC.txt\", index_col=0, header=0)"
   ]
  },
  {
   "cell_type": "code",
   "execution_count": 3,
   "id": "5259f788",
   "metadata": {
    "ExecuteTime": {
     "end_time": "2023-11-30T03:18:35.224568Z",
     "start_time": "2023-11-30T03:18:35.209021Z"
    }
   },
   "outputs": [],
   "source": [
    "data = pd.concat([cellA, cellB], ignore_index=True, sort=False)\n",
    "labels = np.concatenate((np.ones(len(cellA)), np.zeros(len(cellB))))"
   ]
  },
  {
   "cell_type": "code",
   "execution_count": 4,
   "id": "32958eb3",
   "metadata": {
    "ExecuteTime": {
     "end_time": "2023-11-30T03:18:35.243057Z",
     "start_time": "2023-11-30T03:18:35.227298Z"
    }
   },
   "outputs": [],
   "source": [
    "aurocToAverage = []\n",
    "auprToAverage = []\n",
    "\n",
    "score = np.zeros(len(labels))\n",
    "\n",
    "stratifiedKFold = sk.model_selection.StratifiedKFold(n_splits=5, shuffle=True, random_state=0)\n",
    "\n",
    "linModel = LogisticRegression(class_weight='balanced', random_state=0, max_iter=1000)"
   ]
  },
  {
   "cell_type": "code",
   "execution_count": 5,
   "id": "ac96d928",
   "metadata": {
    "ExecuteTime": {
     "end_time": "2023-11-30T03:18:35.789304Z",
     "start_time": "2023-11-30T03:18:35.244614Z"
    },
    "scrolled": true
   },
   "outputs": [
    {
     "name": "stdout",
     "output_type": "stream",
     "text": [
      "For cellA positive and cellB negative samples:\n",
      "AUROC:0.9257500000000001\n",
      "AUPR:0.9314757587929969\n"
     ]
    }
   ],
   "source": [
    "#we will split our dataset into the splits here, the split function will break our dataset into\n",
    "# the correct sizes and allow us to create 5 different training and test datasets to average over\n",
    "for train_index, test_index in stratifiedKFold.split(data,labels):\n",
    "    testX1 = data.iloc[test_index]\n",
    "    trainX1 = data.iloc[train_index]\n",
    "    trainY1 = labels[train_index]\n",
    "    testY1 = labels[test_index]\n",
    "    \n",
    "    #train the linear model on our training data\n",
    "    linModel.fit(trainX1, trainY1)\n",
    "    \n",
    "    #predict the correct labels for our test dataset\n",
    "    predY =  linModel.predict_proba(testX1)[:,1]\n",
    "    score[test_index] = predY.copy()\n",
    "    \n",
    "    # calculate the auroc and aupr and then add them to our lists to average\n",
    "    aurocToAverage.append(metrics.roc_auc_score(testY1, predY))\n",
    "    auprToAverage.append(metrics.average_precision_score(testY1, predY))\n",
    "\n",
    "print(\"For cellA positive and cellB negative samples:\")\n",
    "print(\"AUROC:\" + str((sum(aurocToAverage)/len(aurocToAverage))))\n",
    "print(\"AUPR:\" + str((sum(auprToAverage)/len(auprToAverage))))"
   ]
  },
  {
   "cell_type": "code",
   "execution_count": 6,
   "id": "6c6f63e2",
   "metadata": {
    "ExecuteTime": {
     "end_time": "2023-11-30T03:18:35.796416Z",
     "start_time": "2023-11-30T03:18:35.790750Z"
    }
   },
   "outputs": [],
   "source": [
    "labels = np.concatenate((np.zeros(len(cellA)), np.ones(len(cellB))))"
   ]
  },
  {
   "cell_type": "code",
   "execution_count": 7,
   "id": "1bac2d66",
   "metadata": {
    "ExecuteTime": {
     "end_time": "2023-11-30T03:18:35.807286Z",
     "start_time": "2023-11-30T03:18:35.797529Z"
    }
   },
   "outputs": [],
   "source": [
    "aurocToAverage = []\n",
    "auprToAverage = []\n",
    "\n",
    "score = np.zeros(len(labels))\n",
    "\n",
    "stratifiedKFold = sk.model_selection.StratifiedKFold(n_splits=5, shuffle=True, random_state=0)\n",
    "\n",
    "linModel = LogisticRegression(class_weight='balanced', random_state=0, max_iter=1000)"
   ]
  },
  {
   "cell_type": "code",
   "execution_count": 8,
   "id": "3d877e64",
   "metadata": {
    "ExecuteTime": {
     "end_time": "2023-11-30T03:18:36.357244Z",
     "start_time": "2023-11-30T03:18:35.807286Z"
    }
   },
   "outputs": [
    {
     "name": "stdout",
     "output_type": "stream",
     "text": [
      "For cellA negative and cellB positive samples:\n",
      "AUROC:0.9257500000000001\n",
      "AUPR:0.9284580219509765\n"
     ]
    }
   ],
   "source": [
    "#we will split our dataset into the splits here, the split function will break our dataset into\n",
    "# the correct sizes and allow us to create 5 different training and test datasets to average over\n",
    "for train_index, test_index in stratifiedKFold.split(data,labels):\n",
    "    testX1 = data.iloc[test_index]\n",
    "    trainX1 = data.iloc[train_index]\n",
    "    trainY1 = labels[train_index]\n",
    "    testY1 = labels[test_index]\n",
    "    \n",
    "    #train the linear model on our training data\n",
    "    linModel.fit(trainX1, trainY1)\n",
    "    \n",
    "    #predict the correct labels for our test dataset\n",
    "    predY =  linModel.predict_proba(testX1)[:,1]\n",
    "    score[test_index] = predY.copy()\n",
    "    \n",
    "    # calculate the auroc and aupr and then add them to our lists to average\n",
    "    aurocToAverage.append(metrics.roc_auc_score(testY1, predY))\n",
    "    auprToAverage.append(metrics.average_precision_score(testY1, predY))\n",
    "\n",
    "print(\"For cellA negative and cellB positive samples:\")\n",
    "print(\"AUROC:\" + str((sum(aurocToAverage)/len(aurocToAverage))))\n",
    "print(\"AUPR:\" + str((sum(auprToAverage)/len(auprToAverage))))"
   ]
  },
  {
   "cell_type": "code",
   "execution_count": 9,
   "id": "85dd6467",
   "metadata": {
    "ExecuteTime": {
     "end_time": "2023-11-30T03:18:36.376436Z",
     "start_time": "2023-11-30T03:18:36.359539Z"
    }
   },
   "outputs": [],
   "source": [
    "data = pd.concat([cellA, cellC], ignore_index=True, sort=False)\n",
    "labels = np.concatenate((np.ones(len(cellA)), np.zeros(len(cellC))))"
   ]
  },
  {
   "cell_type": "code",
   "execution_count": 10,
   "id": "81ee5352",
   "metadata": {
    "ExecuteTime": {
     "end_time": "2023-11-30T03:18:36.392155Z",
     "start_time": "2023-11-30T03:18:36.378921Z"
    }
   },
   "outputs": [],
   "source": [
    "aurocToAverage = []\n",
    "auprToAverage = []\n",
    "\n",
    "score = np.zeros(len(labels))\n",
    "\n",
    "stratifiedKFold = sk.model_selection.StratifiedKFold(n_splits=5, shuffle=True, random_state=0)\n",
    "\n",
    "linModel = LogisticRegression(class_weight='balanced', random_state=0, max_iter=1000)"
   ]
  },
  {
   "cell_type": "code",
   "execution_count": 11,
   "id": "5bff4f3b",
   "metadata": {
    "ExecuteTime": {
     "end_time": "2023-11-30T03:18:36.673099Z",
     "start_time": "2023-11-30T03:18:36.394115Z"
    }
   },
   "outputs": [
    {
     "name": "stdout",
     "output_type": "stream",
     "text": [
      "For cellA positive and cellC negative samples:\n",
      "AUROC:0.9945\n",
      "AUPR:0.9986261318926596\n"
     ]
    }
   ],
   "source": [
    "#we will split our dataset into the splits here, the split function will break our dataset into\n",
    "# the correct sizes and allow us to create 5 different training and test datasets to average over\n",
    "for train_index, test_index in stratifiedKFold.split(data,labels):\n",
    "    testX1 = data.iloc[test_index]\n",
    "    trainX1 = data.iloc[train_index]\n",
    "    trainY1 = labels[train_index]\n",
    "    testY1 = labels[test_index]\n",
    "    \n",
    "    #train the linear model on our training data\n",
    "    linModel.fit(trainX1, trainY1)\n",
    "    \n",
    "    #predict the correct labels for our test dataset\n",
    "    predY =  linModel.predict_proba(testX1)[:,1]\n",
    "    score[test_index] = predY.copy()\n",
    "    \n",
    "    # calculate the auroc and aupr and then add them to our lists to average\n",
    "    aurocToAverage.append(metrics.roc_auc_score(testY1, predY))\n",
    "    auprToAverage.append(metrics.average_precision_score(testY1, predY))\n",
    "\n",
    "print(\"For cellA positive and cellC negative samples:\")\n",
    "print(\"AUROC:\" + str((sum(aurocToAverage)/len(aurocToAverage))))\n",
    "print(\"AUPR:\" + str((sum(auprToAverage)/len(auprToAverage))))"
   ]
  },
  {
   "cell_type": "code",
   "execution_count": 12,
   "id": "98bddf97",
   "metadata": {
    "ExecuteTime": {
     "end_time": "2023-11-30T03:18:36.691058Z",
     "start_time": "2023-11-30T03:18:36.674924Z"
    }
   },
   "outputs": [],
   "source": [
    "labels = np.concatenate((np.zeros(len(cellA)), np.ones(len(cellC))))"
   ]
  },
  {
   "cell_type": "code",
   "execution_count": 13,
   "id": "1c0cbc9e",
   "metadata": {
    "ExecuteTime": {
     "end_time": "2023-11-30T03:18:36.710447Z",
     "start_time": "2023-11-30T03:18:36.693057Z"
    }
   },
   "outputs": [],
   "source": [
    "aurocToAverage = []\n",
    "auprToAverage = []\n",
    "\n",
    "score = np.zeros(len(labels))\n",
    "\n",
    "stratifiedKFold = sk.model_selection.StratifiedKFold(n_splits=5, shuffle=True, random_state=0)\n",
    "\n",
    "linModel = LogisticRegression(class_weight='balanced', random_state=0, max_iter=1000)"
   ]
  },
  {
   "cell_type": "code",
   "execution_count": 14,
   "id": "c402c92b",
   "metadata": {
    "ExecuteTime": {
     "end_time": "2023-11-30T03:18:36.990725Z",
     "start_time": "2023-11-30T03:18:36.710447Z"
    }
   },
   "outputs": [
    {
     "name": "stdout",
     "output_type": "stream",
     "text": [
      "For cellA negative and cellC negative positive:\n",
      "AUROC:0.9945\n",
      "AUPR:0.9828484848484849\n"
     ]
    }
   ],
   "source": [
    "#we will split our dataset into the splits here, the split function will break our dataset into\n",
    "# the correct sizes and allow us to create 5 different training and test datasets to average over\n",
    "for train_index, test_index in stratifiedKFold.split(data,labels):\n",
    "    testX1 = data.iloc[test_index]\n",
    "    trainX1 = data.iloc[train_index]\n",
    "    trainY1 = labels[train_index]\n",
    "    testY1 = labels[test_index]\n",
    "    \n",
    "    #train the linear model on our training data\n",
    "    linModel.fit(trainX1, trainY1)\n",
    "    \n",
    "    #predict the correct labels for our test dataset\n",
    "    predY =  linModel.predict_proba(testX1)[:,1]\n",
    "    score[test_index] = predY.copy()\n",
    "    \n",
    "    # calculate the auroc and aupr and then add them to our lists to average\n",
    "    aurocToAverage.append(metrics.roc_auc_score(testY1, predY))\n",
    "    auprToAverage.append(metrics.average_precision_score(testY1, predY))\n",
    "\n",
    "print(\"For cellA negative and cellC negative positive:\")\n",
    "print(\"AUROC:\" + str((sum(aurocToAverage)/len(aurocToAverage))))\n",
    "print(\"AUPR:\" + str((sum(auprToAverage)/len(auprToAverage))))"
   ]
  },
  {
   "cell_type": "code",
   "execution_count": 15,
   "id": "ba64dc62",
   "metadata": {
    "ExecuteTime": {
     "end_time": "2023-11-30T03:18:37.206607Z",
     "start_time": "2023-11-30T03:18:36.993381Z"
    }
   },
   "outputs": [
    {
     "data": {
      "text/plain": [
       "[<matplotlib.lines.Line2D at 0x1b5c64c3eb0>]"
      ]
     },
     "execution_count": 15,
     "metadata": {},
     "output_type": "execute_result"
    },
    {
     "data": {
      "image/png": "[encoded data removed]",
      "text/plain": [
       "<Figure size 640x480 with 1 Axes>"
      ]
     },
     "metadata": {},
     "output_type": "display_data"
    }
   ],
   "source": [
    "#calculates the false positive rate and true positive rate from our known values and our predicted scores\n",
    "lr_fpr, lr_tpr, _ = sk.metrics.roc_curve(labels, score) \n",
    "x = np.linspace(0, 10, 1000)\n",
    "plt.plot(lr_fpr, lr_tpr, marker='.', label='Logistic')\n",
    "plt.plot(range(1))"
   ]
  },
  {
   "cell_type": "code",
   "execution_count": 16,
   "id": "84f66d5f",
   "metadata": {
    "ExecuteTime": {
     "end_time": "2023-11-30T03:18:37.389808Z",
     "start_time": "2023-11-30T03:18:37.209621Z"
    }
   },
   "outputs": [
    {
     "data": {
      "text/plain": [
       "[<matplotlib.lines.Line2D at 0x1b5c672beb0>]"
      ]
     },
     "execution_count": 16,
     "metadata": {},
     "output_type": "execute_result"
    },
    {
     "data": {
      "image/png": "[encoded data removed]",
      "text/plain": [
       "<Figure size 640x480 with 1 Axes>"
      ]
     },
     "metadata": {},
     "output_type": "display_data"
    }
   ],
   "source": [
    "#calculates the precision and recall from our known values and predicted scores\n",
    "lr_precision, lr_recall, _ = sk.metrics.precision_recall_curve(labels, score)\n",
    "plt.plot(lr_recall, lr_precision, marker='.', label='Logistic')\n",
    "plt.plot(range(1))"
   ]
  }
 ],
 "metadata": {
  "kernelspec": {
   "display_name": "Python 3 (ipykernel)",
   "language": "python",
   "name": "python3"
  },
  "language_info": {
   "codemirror_mode": {
    "name": "ipython",
    "version": 3
   },
   "file_extension": ".py",
   "mimetype": "text/x-python",
   "name": "python",
   "nbconvert_exporter": "python",
   "pygments_lexer": "ipython3",
   "version": "3.10.7"
  }
 },
 "nbformat": 4,
 "nbformat_minor": 5
}
