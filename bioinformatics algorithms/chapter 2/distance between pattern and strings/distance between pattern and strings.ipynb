{
 "cells": [
  {
   "cell_type": "code",
   "execution_count": 1,
   "id": "debc6ce6",
   "metadata": {},
   "outputs": [
    {
     "name": "stdout",
     "output_type": "stream",
     "text": [
      "50\n"
     ]
    }
   ],
   "source": [
    "f= open(\"dataset_865389_1.txt\",\"r\")\n",
    "\n",
    "Pattern = f.readline()\n",
    "Pattern = Pattern[:len(Pattern) - 1]\n",
    "Dna = [str(x) for x in next(f).split()]\n",
    "\n",
    "def DistanceBetweenPatternAndStrings(Pattern, Dna):\n",
    "    k = len(Pattern)\n",
    "    distance = 0\n",
    "    \n",
    "    for Text in Dna:\n",
    "        HammingDist = float('inf')\n",
    "        for i in range(len(Text) - k + 1):\n",
    "            if HammingDist > HammingDistance(Pattern, Text[i:i + k]):\n",
    "                HammingDist = HammingDistance(Pattern, Text[i:i + k])\n",
    "        distance += HammingDist\n",
    "    return distance\n",
    "\n",
    "def HammingDistance(string1, string2):\n",
    "    if len(string1) != len(string2):\n",
    "        return -1\n",
    "    \n",
    "    dist = 0\n",
    "    \n",
    "    for i in range(len(string1)):\n",
    "        if string1[i] != string2[i]:\n",
    "            dist +=1\n",
    "            \n",
    "    return dist\n",
    "\n",
    "print(DistanceBetweenPatternAndStrings(Pattern, Dna))\n",
    "\n",
    "f.close()"
   ]
  }
 ],
 "metadata": {
  "kernelspec": {
   "display_name": "Python 3 (ipykernel)",
   "language": "python",
   "name": "python3"
  },
  "language_info": {
   "codemirror_mode": {
    "name": "ipython",
    "version": 3
   },
   "file_extension": ".py",
   "mimetype": "text/x-python",
   "name": "python",
   "nbconvert_exporter": "python",
   "pygments_lexer": "ipython3",
   "version": "3.10.7"
  }
 },
 "nbformat": 4,
 "nbformat_minor": 5
}
