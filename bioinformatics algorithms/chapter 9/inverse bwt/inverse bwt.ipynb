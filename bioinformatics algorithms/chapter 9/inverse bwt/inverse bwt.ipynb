{
 "cells": [
  {
   "cell_type": "code",
   "execution_count": 9,
   "id": "e3b52493",
   "metadata": {},
   "outputs": [
    {
     "name": "stdout",
     "output_type": "stream",
     "text": [
      "TACCCGCCTGGAAGCAATCACAAATGTGAGCTAACCAATAAACAGTGACTACAGGGCCTTCGACGGGAATTAACCGACCTTGATTTAATAAACTCCCTCCAAGGAACGCATAGTGTGGACACGAAAAGCGTTAGCCGCACAGTTCCGAGCACAGAAGCCCTGCCACCAAGGCGCATGCTGTACAGATACAACTCCCATGTCCGCTACGGACCTCTCCGCCCAGGTTAGACTTCGGCGTGGCTCCCGTATCAACCACCCACTATGTCCTACTAAACGAGCTCGGTATTTGAATCTATGTAGTGAAGTATTGCACCGTACCTTGATAAACAGCGGCGACTTGAAAGTTTTTGCCTTTAGGGGACCACACAGTTCGTGGGCAACTTTCACGACCACGTTGTAATTAGTTGGCATCCGTTCGGTTCTTTCAGCCAATCCTGCAACTTGGTGACGAGAGGACTCATGTGGCCAAGGGGTTTGATCAGAACAAGTTATAACCTAACATGGAAGTCGAATATTCACAGCTTCGTCACAGTGATGGTCTCGAGCAGGTATAATTTTCTCCGCGTATCATTTGAGGGGTTCCTAGGTCGTTAGCTGGCACTGTATGCTCCGGGGTGATGTAACCGGTACGAGTATCGTCACCCGAGTAGCTAGACCATGGTCTAAGAAATTCGGGGAAGTTTAACCGTTACAGGTCAGTAGCTATTACATGGTGGCTATAGCCTTATGCACCATCTAGTAAACGCCAGCGACCTGATGTTGACGGGGCACCGGGGGGCGCGCATTGCACCTCATTCCGTCGCTAACTTGACCTGACTCGAAGCGTTGCGTGCTTCTAAGGCTTTCCCCCTGTGAAAGACTTTAGAT$\n"
     ]
    }
   ],
   "source": [
    "from collections import defaultdict\n",
    "\n",
    "f = open(\"dataset_865528_11.txt\",\"r\")\n",
    "Transform = f.readline().strip('\\n')\n",
    "f.close()\n",
    "\n",
    "def InverseBWT(Text):\n",
    "    FirstColumn = [str(c) for c in Transform]\n",
    "    FirstColumn.sort()\n",
    "    \n",
    "    firstFreqs = defaultdict(int)\n",
    "    lastFreqs = defaultdict(int)\n",
    "    \n",
    "    graph = dict()\n",
    "    \n",
    "    for i in range(len(Transform)):\n",
    "        first_c = FirstColumn[i]\n",
    "        last_c = Transform[i]\n",
    "        \n",
    "        firstFreqs[first_c] += 1\n",
    "        lastFreqs[last_c] += 1\n",
    "        \n",
    "        graph.update({(last_c, lastFreqs[last_c]): (first_c, firstFreqs[first_c])})\n",
    "    \n",
    "    Text = \"\"\n",
    "    curr_node = graph[('$', 1)]\n",
    "    while curr_node != ('$', 1):\n",
    "        Text += curr_node[0]\n",
    "        curr_node = graph[curr_node]\n",
    "    \n",
    "    return Text + '$'\n",
    "\n",
    "print(InverseBWT(Transform))"
   ]
  }
 ],
 "metadata": {
  "kernelspec": {
   "display_name": "Python 3 (ipykernel)",
   "language": "python",
   "name": "python3"
  },
  "language_info": {
   "codemirror_mode": {
    "name": "ipython",
    "version": 3
   },
   "file_extension": ".py",
   "mimetype": "text/x-python",
   "name": "python",
   "nbconvert_exporter": "python",
   "pygments_lexer": "ipython3",
   "version": "3.10.7"
  }
 },
 "nbformat": 4,
 "nbformat_minor": 5
}
