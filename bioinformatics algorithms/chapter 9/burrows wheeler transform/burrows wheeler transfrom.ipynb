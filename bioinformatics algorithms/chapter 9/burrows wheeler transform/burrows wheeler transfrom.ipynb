{
 "cells": [
  {
   "cell_type": "code",
   "execution_count": 6,
   "id": "a17db5d9",
   "metadata": {},
   "outputs": [
    {
     "name": "stdout",
     "output_type": "stream",
     "text": [
      "TGGACTTTGTCAGATAGATACCCTCATTGACGCACCAGCGGGGGTGTGAGGTTGGAAGGGCACTATGGCCAAGCTTGCCAACTCGCCACTTAATGGTTCATAATAAACGTGACACAGGCTAACCGTATCCCAGATCCTCCGTCTCCCATGGGCGTACTACGGGGGGGGTAACCTCCTATTCAGGTCGAGGAGGGGGGCATAACTAATCCCCGAATTCTCGGATGAATAAGGCAAGTTGCAGGGACCTCAACACGGATTAGTTCACTATCAAAGTGGGCCTAAGCCGGGCTAGTGAGTAACGCCAAGTCTCACACTTGGCTCGTTTAGACATTAACCGTCCCATCGTGGGCTAGCCTGTTGATAGGTAAATCCTGGAGCCCCTTACTACCGCCTCCCGTCGCGGAATGGCATGTTCCGGTGTTACAAAGATCATAGATGGCTTTCGGAATGGACACTTCCACTCTCTGGGTGGATGGGCTAACGACAATATTTGTCATGGCATTCGACCTTCAGCCG$ATGAGGACGCGTCAATACATTAATTATTAGCGGGGGTGATATCGAGAACCACTACACGTAGCAGCCGCTGATTTTACACTGCATCTTTCAAACGAGCCACTGTTGAGCTTTGACATGAACCTGACTCACACGTAAGGCGTGAGGGTTTGCATTCAGTGATGGACAAGTGGTAGTCATCTTCGGCTAGTACAAGATATGAGACGGTTGAGCTCAGGTACTGCTGCCAGACCTACTGGATGTTAAAGTAATGGTTTGTGTTTTCGGACAAGTCCCCGTGGTTCCTGGATAAACACGGAGGGTGCATGCACAGCTAACAAGGTCGTGTTCGGTATCGTTAAATACGGTGTACGCAGTGGAATGTGTCGATTTTGATCATAACCCATGCTCGGTGAAAAAGCCCGAACACGCATTCACACACGCTAGCTGGAACTTTCATTGACATAAGACTGTTTACTGAAC\n"
     ]
    }
   ],
   "source": [
    "f = open(\"dataset_865526_5.txt\", \"r\")\n",
    "Text = f.readline().strip('\\n')\n",
    "f.close()\n",
    "\n",
    "def BWT(Text):\n",
    "    BWTmatrix = []\n",
    "    for i in range(len(Text)):\n",
    "        BWTmatrix.append(Text[i:] + Text[:i])\n",
    "    \n",
    "    BWTmatrix.sort()\n",
    "    \n",
    "    transformed_text = \"\"\n",
    "    for text in BWTmatrix:\n",
    "        transformed_text += text[-1]\n",
    "    \n",
    "    return transformed_text\n",
    "    \n",
    "print(BWT(Text))"
   ]
  }
 ],
 "metadata": {
  "kernelspec": {
   "display_name": "Python 3 (ipykernel)",
   "language": "python",
   "name": "python3"
  },
  "language_info": {
   "codemirror_mode": {
    "name": "ipython",
    "version": 3
   },
   "file_extension": ".py",
   "mimetype": "text/x-python",
   "name": "python",
   "nbconvert_exporter": "python",
   "pygments_lexer": "ipython3",
   "version": "3.10.7"
  }
 },
 "nbformat": 4,
 "nbformat_minor": 5
}
