{
 "cells": [
  {
   "cell_type": "code",
   "execution_count": 7,
   "id": "4ffbcd87",
   "metadata": {},
   "outputs": [],
   "source": [
    "from collections import defaultdict\n",
    "\n",
    "f = open(\"dataset_865400_8.txt\",\"r\")\n",
    "\n",
    "Patterns = [str(x) for x in next(f).split()]\n",
    "\n",
    "def DeBrujinString(Patterns):\n",
    "    graph = defaultdict(lambda: defaultdict(lambda: 0))\n",
    "    for i in range(len(Patterns)):\n",
    "        graph[Patterns[i][:len(Patterns[i]) - 1]][Patterns[i][1:]] += 1\n",
    "    \n",
    "    reduced_graph = defaultdict(list)\n",
    "    for node1 in graph:\n",
    "        for node2 in graph[node1]:\n",
    "            for i in range(graph[node1][node2]):\n",
    "                reduced_graph[node1].append(node2)\n",
    "    \n",
    "    return reduced_graph\n",
    "\n",
    "g = DeBrujinString(Patterns)\n",
    "fans = open(\"ans.txt\",\"w\")\n",
    "\n",
    "for key in g:\n",
    "    out = key + \": \"\n",
    "    for node in g[key]:\n",
    "        out += node + \" \"\n",
    "    fans.write(out[:len(out) - 1] + \"\\n\")\n",
    "\n",
    "fans.close()\n",
    "f.close()"
   ]
  }
 ],
 "metadata": {
  "kernelspec": {
   "display_name": "Python 3 (ipykernel)",
   "language": "python",
   "name": "python3"
  },
  "language_info": {
   "codemirror_mode": {
    "name": "ipython",
    "version": 3
   },
   "file_extension": ".py",
   "mimetype": "text/x-python",
   "name": "python",
   "nbconvert_exporter": "python",
   "pygments_lexer": "ipython3",
   "version": "3.10.7"
  }
 },
 "nbformat": 4,
 "nbformat_minor": 5
}
