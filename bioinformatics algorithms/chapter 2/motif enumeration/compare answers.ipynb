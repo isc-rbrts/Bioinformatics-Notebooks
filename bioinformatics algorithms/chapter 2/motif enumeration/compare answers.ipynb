{
 "cells": [
  {
   "cell_type": "code",
   "execution_count": 3,
   "id": "623ea772",
   "metadata": {},
   "outputs": [
    {
     "name": "stdout",
     "output_type": "stream",
     "text": [
      "set()\n",
      "{'GCACT', 'CCGCT', 'TCACC', 'CCGGT', 'CGTCT', 'TAACT', 'CAACT', 'GCATT', 'TAACA', 'GCGTT', 'GTACC', 'GCGGT'}\n"
     ]
    }
   ],
   "source": [
    "f1 = open(\"my ans.txt\", \"r\")\n",
    "f2 = open(\"corr ans.txt\", \"r\")\n",
    "\n",
    "my_ans = [str(x) for x in next(f1).split()]\n",
    "corr_ans = [str(x) for x in next(f2).split()]\n",
    "\n",
    "my_set = set()\n",
    "for s in my_ans:\n",
    "    my_set.add(s)\n",
    "    \n",
    "corr_set = set()\n",
    "for s in corr_ans:\n",
    "    corr_set.add(s)\n",
    "    \n",
    "c = my_set.difference(corr_set)\n",
    "d = corr_set.difference(my_set)\n",
    "\n",
    "print(c)\n",
    "print(d)\n",
    "\n",
    "f1.close()\n",
    "f2.close()"
   ]
  }
 ],
 "metadata": {
  "kernelspec": {
   "display_name": "Python 3 (ipykernel)",
   "language": "python",
   "name": "python3"
  },
  "language_info": {
   "codemirror_mode": {
    "name": "ipython",
    "version": 3
   },
   "file_extension": ".py",
   "mimetype": "text/x-python",
   "name": "python",
   "nbconvert_exporter": "python",
   "pygments_lexer": "ipython3",
   "version": "3.10.7"
  }
 },
 "nbformat": 4,
 "nbformat_minor": 5
}
