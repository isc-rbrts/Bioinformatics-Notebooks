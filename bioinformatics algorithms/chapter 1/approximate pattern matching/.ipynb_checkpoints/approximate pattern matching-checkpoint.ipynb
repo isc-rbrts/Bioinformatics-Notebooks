{
 "cells": [
  {
   "cell_type": "code",
   "execution_count": 1,
   "id": "b159647a",
   "metadata": {},
   "outputs": [
    {
     "name": "stdout",
     "output_type": "stream",
     "text": [
      "0 1 8 9 10 11 12 17 18 19 20 \n",
      "11\n"
     ]
    }
   ],
   "source": [
    "f = open(\"dataset_865367_4.txt\",\"r\")\n",
    "\n",
    "pattern = f.readline()\n",
    "pattern = pattern[:len(pattern) - 1]\n",
    "text = f.readline()\n",
    "text = text[:len(text) - 1]\n",
    "d = int(f.readline())\n",
    "\n",
    "def ApproximatePatternMatching(pattern, text, d):\n",
    "    locations = []\n",
    "    \n",
    "    for i in range(0, len(text) - len(pattern) + 1):\n",
    "        if HammingDistance(text[i:i + len(pattern)], pattern) <= d:\n",
    "            locations.append(i)\n",
    "            \n",
    "    return locations\n",
    "    \n",
    "def HammingDistance(string1, string2):\n",
    "    if len(string1) != len(string2):\n",
    "        return -1\n",
    "    \n",
    "    dist = 0\n",
    "    \n",
    "    for i in range(len(string1)):\n",
    "        if string1[i] != string2[i]:\n",
    "            dist +=1\n",
    "            \n",
    "    return dist\n",
    "\n",
    "out = \"\"\n",
    "for i in ApproximatePatternMatching(pattern, text, d):\n",
    "    out = out + str(i) + \" \"\n",
    "    \n",
    "print(out)\n",
    "\n",
    "f.close()"
   ]
  },
  {
   "cell_type": "code",
   "execution_count": null,
   "id": "7994709c",
   "metadata": {},
   "outputs": [],
   "source": []
  }
 ],
 "metadata": {
  "kernelspec": {
   "display_name": "Python 3 (ipykernel)",
   "language": "python",
   "name": "python3"
  },
  "language_info": {
   "codemirror_mode": {
    "name": "ipython",
    "version": 3
   },
   "file_extension": ".py",
   "mimetype": "text/x-python",
   "name": "python",
   "nbconvert_exporter": "python",
   "pygments_lexer": "ipython3",
   "version": "3.10.7"
  }
 },
 "nbformat": 4,
 "nbformat_minor": 5
}
