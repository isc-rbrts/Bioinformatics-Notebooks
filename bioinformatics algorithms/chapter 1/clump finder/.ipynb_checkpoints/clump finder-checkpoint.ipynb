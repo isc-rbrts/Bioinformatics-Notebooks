{
 "cells": [
  {
   "cell_type": "code",
   "execution_count": 2,
   "id": "a11bf8d6",
   "metadata": {},
   "outputs": [
    {
     "name": "stdout",
     "output_type": "stream",
     "text": [
      "set()\n"
     ]
    }
   ],
   "source": [
    "from collections import defaultdict\n",
    "\n",
    "f = open(\"dataset_865363_5.txt\",\"r\")\n",
    "\n",
    "genome = f.readline()\n",
    "genome = genome[:len(genome) - 1]\n",
    "k, L, t = [int(x) for x in next(f).split()]\n",
    "\n",
    "def FindClumps(genome, k, L, t):\n",
    "    patterns = set()\n",
    "    \n",
    "    for i in range(0, len(genome) - L + 1):\n",
    "        window = genome[i:i + L]\n",
    "        freqMap = FrequencyTable(window, k)\n",
    "        for pattern in freqMap:\n",
    "            if freqMap[pattern] >= t:\n",
    "                patterns.add(pattern)\n",
    "    return patterns\n",
    "        \n",
    "def FrequencyTable(Text, k):\n",
    "    freqMap = defaultdict(lambda: 0)\n",
    "    n = len(Text)\n",
    "    \n",
    "    for i in range(0, n - k + 1):\n",
    "        pattern = Text[i:i + k]\n",
    "        freqMap[pattern] += 1\n",
    "    return freqMap\n",
    "\n",
    "print(FindClumps(genome, k, L, t))\n",
    "\n",
    "f.close()"
   ]
  },
  {
   "cell_type": "code",
   "execution_count": null,
   "id": "ae7a2bd3",
   "metadata": {},
   "outputs": [],
   "source": []
  }
 ],
 "metadata": {
  "kernelspec": {
   "display_name": "Python 3 (ipykernel)",
   "language": "python",
   "name": "python3"
  },
  "language_info": {
   "codemirror_mode": {
    "name": "ipython",
    "version": 3
   },
   "file_extension": ".py",
   "mimetype": "text/x-python",
   "name": "python",
   "nbconvert_exporter": "python",
   "pygments_lexer": "ipython3",
   "version": "3.10.7"
  }
 },
 "nbformat": 4,
 "nbformat_minor": 5
}
