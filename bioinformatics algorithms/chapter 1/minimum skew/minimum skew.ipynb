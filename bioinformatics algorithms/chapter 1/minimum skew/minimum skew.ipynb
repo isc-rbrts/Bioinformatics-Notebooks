{
 "cells": [
  {
   "cell_type": "code",
   "execution_count": 2,
   "id": "a11ac4c2",
   "metadata": {},
   "outputs": [
    {
     "name": "stdout",
     "output_type": "stream",
     "text": [
      "[62570, 62571, 62572, 62573, 62575, 62576, 62577, 62578, 62579, 62581, 62583, 62619, 62624, 62625, 62627, 62628, 62629, 62630, 62631]\n"
     ]
    }
   ],
   "source": [
    "f = open(\"dataset_865366_10.txt\", \"r\")\n",
    "\n",
    "genome = f.readline()\n",
    "\n",
    "def MinimumSkew(genome):\n",
    "    min_skew = float('inf')\n",
    "    positions = []\n",
    "    skew = 0\n",
    "    position = 1\n",
    "    \n",
    "    for nucleotide in genome:\n",
    "        if nucleotide == 'G':\n",
    "            skew += 1\n",
    "        elif nucleotide == 'C':\n",
    "            skew -= 1\n",
    "        \n",
    "        if skew < min_skew:\n",
    "            positions = [position]\n",
    "            min_skew = skew\n",
    "        elif skew == min_skew:\n",
    "            positions.append(position)\n",
    "        \n",
    "        position += 1\n",
    "        \n",
    "    return positions\n",
    "        \n",
    "print(MinimumSkew(genome))\n",
    "\n",
    "f.close()"
   ]
  },
  {
   "cell_type": "code",
   "execution_count": null,
   "id": "84fb8bf3",
   "metadata": {},
   "outputs": [],
   "source": []
  }
 ],
 "metadata": {
  "kernelspec": {
   "display_name": "Python 3 (ipykernel)",
   "language": "python",
   "name": "python3"
  },
  "language_info": {
   "codemirror_mode": {
    "name": "ipython",
    "version": 3
   },
   "file_extension": ".py",
   "mimetype": "text/x-python",
   "name": "python",
   "nbconvert_exporter": "python",
   "pygments_lexer": "ipython3",
   "version": "3.10.7"
  }
 },
 "nbformat": 4,
 "nbformat_minor": 5
}
