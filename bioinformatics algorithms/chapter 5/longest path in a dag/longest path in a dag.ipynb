{
 "cells": [
  {
   "cell_type": "code",
   "execution_count": 25,
   "id": "4176121b",
   "metadata": {},
   "outputs": [
    {
     "name": "stdout",
     "output_type": "stream",
     "text": [
      "219\n",
      "0 1 4 5 6 7 8 13 14 15 16 17 18 19 34 37 38 44 46 49\n"
     ]
    }
   ],
   "source": [
    "from collections import defaultdict\n",
    "\n",
    "f = open(\"dataset_865447_7.txt\",\"r\")\n",
    "\n",
    "s, t = [int(x) for x in next(f).split()]\n",
    "E = defaultdict(list)\n",
    "while line := f.readline():\n",
    "    a, b, weight = [int(x) for x in line.split()]\n",
    "    E[a].append((b, weight))\n",
    "    \n",
    "    \n",
    "def LongestPath(s, t, E):\n",
    "    graph = defaultdict(list)\n",
    "    for node in E:\n",
    "        for pair in E[node]:\n",
    "            graph[node].append(pair[0])\n",
    "    L = TopologicalOrdering(graph)\n",
    "    \n",
    "    path_lengths = defaultdict(int)\n",
    "    backtrack = defaultdict(int)\n",
    "    \n",
    "    path_lengths[s] = 0\n",
    "    \n",
    "    for from_node in L:\n",
    "        for pair in E[from_node]:\n",
    "            to_node, weight = pair\n",
    "            if path_lengths[to_node] < path_lengths[from_node] + weight:\n",
    "                path_lengths[to_node] = path_lengths[from_node] + weight\n",
    "                backtrack[to_node] = from_node\n",
    "                \n",
    "    path = []\n",
    "    back_node = t\n",
    "    while back_node != s:\n",
    "        path.insert(0, back_node)\n",
    "        back_node = backtrack[back_node]\n",
    "    path.insert(0, s)\n",
    "    \n",
    "    return (path_lengths[t], path)\n",
    "\n",
    "def TopologicalOrdering(graph):\n",
    "    reverse_graph = defaultdict(list)\n",
    "    for key in graph:\n",
    "        for node in graph[key]:\n",
    "            reverse_graph[node].append(key)\n",
    "    \n",
    "    L = list()\n",
    "    Candidates = set()\n",
    "    for key in graph:\n",
    "        if key not in reverse_graph:\n",
    "            Candidates.add(key)\n",
    "    while len(Candidates):\n",
    "        a = list(Candidates)[0]\n",
    "        L.append(a)\n",
    "        Candidates.remove(a)\n",
    "        \n",
    "        for node in graph[a]:\n",
    "            if a in reverse_graph[node]:\n",
    "                reverse_graph[node].remove(a)\n",
    "                \n",
    "            if len(reverse_graph[node]) == 0:\n",
    "                Candidates.add(node)\n",
    "                \n",
    "    for key in reverse_graph:\n",
    "        if len(reverse_graph[key]):\n",
    "            return \"Graph is not a DAG\"\n",
    "        \n",
    "    return L\n",
    "\n",
    "length, path = LongestPath(s, t, E)\n",
    "print(length)\n",
    "out = \"\"\n",
    "for node in path:\n",
    "    out += str(node) + \" \"\n",
    "print(out.strip(\" \"))\n",
    "\n",
    "f.close()"
   ]
  }
 ],
 "metadata": {
  "kernelspec": {
   "display_name": "Python 3 (ipykernel)",
   "language": "python",
   "name": "python3"
  },
  "language_info": {
   "codemirror_mode": {
    "name": "ipython",
    "version": 3
   },
   "file_extension": ".py",
   "mimetype": "text/x-python",
   "name": "python",
   "nbconvert_exporter": "python",
   "pygments_lexer": "ipython3",
   "version": "3.10.7"
  }
 },
 "nbformat": 4,
 "nbformat_minor": 5
}
