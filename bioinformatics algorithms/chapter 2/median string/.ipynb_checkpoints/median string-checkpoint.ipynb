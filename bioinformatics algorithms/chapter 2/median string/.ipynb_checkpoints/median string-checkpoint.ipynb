{
 "cells": [
  {
   "cell_type": "code",
   "execution_count": 1,
   "id": "0b5ff496",
   "metadata": {},
   "outputs": [
    {
     "name": "stdout",
     "output_type": "stream",
     "text": [
      "GTCCTT\n"
     ]
    }
   ],
   "source": [
    "f= open(\"dataset_865381_9.txt\",\"r\")\n",
    "\n",
    "k = int(f.readline())\n",
    "Dna = [str(x) for x in next(f).split()]\n",
    "\n",
    "def MedianString(Dna, k):\n",
    "    dist = float('inf')\n",
    "    Median = \"\"\n",
    "    for pattern in AllStrings(k):\n",
    "        if dist > DistanceBetweenPatternAndStrings(pattern, Dna):\n",
    "            dist = DistanceBetweenPatternAndStrings(pattern, Dna)\n",
    "            Median = pattern\n",
    "    return Median\n",
    "\n",
    "def DistanceBetweenPatternAndStrings(Pattern, Dna):\n",
    "    k = len(Pattern)\n",
    "    distance = 0\n",
    "    \n",
    "    for Text in Dna:\n",
    "        HammingDist = float('inf')\n",
    "        for i in range(len(Text) - k + 1):\n",
    "            if HammingDist > HammingDistance(Pattern, Text[i:i + k]):\n",
    "                HammingDist = HammingDistance(Pattern, Text[i:i + k])\n",
    "        distance += HammingDist\n",
    "    return distance\n",
    "\n",
    "def AllStrings(k):\n",
    "    \n",
    "    lengthKstring = \"\"\n",
    "    for i in range(k):\n",
    "        lengthKstring = lengthKstring + \"A\"\n",
    "    return Neighbors(lengthKstring, k)\n",
    "\n",
    "def Neighbors(pattern, d):\n",
    "    if d == 0:\n",
    "        return [pattern]\n",
    "    if len(pattern) == 1:\n",
    "        return [\"A\", \"C\", \"T\", \"G\"]\n",
    "    \n",
    "    Neighborhood = set()\n",
    "    SuffixNeighbors = Neighbors(pattern[1:], d)\n",
    "    \n",
    "    for string in SuffixNeighbors:\n",
    "        if HammingDistance(string, pattern[1:]) < d:\n",
    "            for nucleotide in [\"A\", \"C\", \"T\", \"G\"]:\n",
    "                Neighborhood.add((nucleotide + string))\n",
    "        else:\n",
    "            Neighborhood.add((pattern[:1] + string))\n",
    "    return Neighborhood\n",
    "\n",
    "def HammingDistance(string1, string2):\n",
    "    if len(string1) != len(string2):\n",
    "        return -1\n",
    "    \n",
    "    dist = 0\n",
    "    \n",
    "    for i in range(len(string1)):\n",
    "        if string1[i] != string2[i]:\n",
    "            dist +=1\n",
    "            \n",
    "    return dist\n",
    "    \n",
    "print(MedianString(Dna, k))    \n",
    "    \n",
    "f.close()"
   ]
  }
 ],
 "metadata": {
  "kernelspec": {
   "display_name": "Python 3 (ipykernel)",
   "language": "python",
   "name": "python3"
  },
  "language_info": {
   "codemirror_mode": {
    "name": "ipython",
    "version": 3
   },
   "file_extension": ".py",
   "mimetype": "text/x-python",
   "name": "python",
   "nbconvert_exporter": "python",
   "pygments_lexer": "ipython3",
   "version": "3.10.7"
  }
 },
 "nbformat": 4,
 "nbformat_minor": 5
}
