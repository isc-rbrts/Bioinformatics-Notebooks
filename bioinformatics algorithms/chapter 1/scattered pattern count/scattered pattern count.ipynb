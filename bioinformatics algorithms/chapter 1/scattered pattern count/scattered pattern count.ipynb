{
 "cells": [
  {
   "cell_type": "code",
   "execution_count": 3,
   "id": "c8d8e690",
   "metadata": {},
   "outputs": [
    {
     "name": "stdout",
     "output_type": "stream",
     "text": [
      "79\n"
     ]
    }
   ],
   "source": [
    "f = open(\"dataset_879688_2.txt\", \"r\")\n",
    "\n",
    "text = f.readline()\n",
    "pattern = f.readline()\n",
    "pattern = pattern[:len(pattern) - 1]\n",
    "overlap = int(f.readline())\n",
    "\n",
    "def ScatteredPatternCount(text, pattern, overlap): # with while loop can also increment i by len(pattern) - overlap\n",
    "    count = 0                                      # assume overlap is smaller than len(pattern): \n",
    "    lastPattern = float('-inf')                    # i += max(1, len(pattern) - overlap)\n",
    "    for i in range(0, len(text) - len(pattern) + 1):\n",
    "        if text[i:i + len(pattern)] == pattern and i - len(pattern) + overlap >= lastPattern:\n",
    "            lastPattern = i\n",
    "            count += 1\n",
    "    return count\n",
    "\n",
    "print(ScatteredPatternCount(text, pattern, overlap))\n",
    "\n",
    "f.close()"
   ]
  }
 ],
 "metadata": {
  "kernelspec": {
   "display_name": "Python 3 (ipykernel)",
   "language": "python",
   "name": "python3"
  },
  "language_info": {
   "codemirror_mode": {
    "name": "ipython",
    "version": 3
   },
   "file_extension": ".py",
   "mimetype": "text/x-python",
   "name": "python",
   "nbconvert_exporter": "python",
   "pygments_lexer": "ipython3",
   "version": "3.10.7"
  }
 },
 "nbformat": 4,
 "nbformat_minor": 5
}
