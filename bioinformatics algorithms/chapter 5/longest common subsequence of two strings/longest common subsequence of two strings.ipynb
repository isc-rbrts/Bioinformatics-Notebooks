{
 "cells": [
  {
   "cell_type": "code",
   "execution_count": 27,
   "id": "05bf734a",
   "metadata": {},
   "outputs": [
    {
     "name": "stdout",
     "output_type": "stream",
     "text": [
      "3000\n",
      "ATTCAGACGATATTACAAGCATGTTTTTCTCAGATACAAGCGGACCGAAAACCGGCAACGTGGGCTTCACATCCTCTGTCTGAGGTAAGTCGCAATATTCAGAGGCGTTGCCATGGGACTGTTAAGTCCACAATGCCAGGCATTTGAGGCACCACAATTATAGACAGGAAATACCCCTCCAGGAGTAGCAAACGATTATTATGTTGGGTACCCCGCCCACCGCACCCCGGTTCTGCCGAGATCTCAGCCCTAACCCGGATCGTTGGCCTGCATAAATTCGGGGGCTGGGCTCCTCACTCAGACAGATACAAGCTGGGTGGTGTATGGGAAGCTGCGGTAGCAATACCCCTTCAGCGCTAGTGTATACACCAATGACTGATCCAGGGAGATGGACGGTTTCTTACCTAGAGATGGGTTCGGTAGCCTTTCGACGAGGGTGTGAAGCGCTGGGCATTTCCAGAAACCTTCTATTTCTTGCGGCATGCTTCTAGATAACATCCTGCTTTTGGTGCCCTGCAGTACGACTGTTGAAAATGTGGACCCGCGTCTGTGAACTACCTGGAGC\n"
     ]
    }
   ],
   "source": [
    "import sys\n",
    "rec_lim = sys.getrecursionlimit()\n",
    "\n",
    "f = open(\"dataset_865447_5.txt\",\"r\")\n",
    "\n",
    "s = f.readline()\n",
    "s = s[:len(s) - 1]\n",
    "t = f.readline()\n",
    "\n",
    "def LongestCommonSubsequence(s, t):\n",
    "    backtrack = LCSbacktrack(s, t)\n",
    "    return OutputLCS(backtrack, s, len(s), len(t))\n",
    "\n",
    "def LCSbacktrack(v, w):\n",
    "    n = len(v) + 1\n",
    "    m = len(w) + 1\n",
    "    Backtrack = [[\" \"]*m for i in range(n)]\n",
    "    s = [[0]*(m) for i in range(n)]\n",
    "    for i in range(1, n):\n",
    "        for j in range(1, m):\n",
    "            match = 0\n",
    "            if v[i - 1] == w[j - 1]:\n",
    "                match = 1\n",
    "            s[i][j] = max(s[i-1][j], s[i][j-1], s[i-1][j-1] + match)\n",
    "            \n",
    "            if s[i][j] == s[i-1][j]:\n",
    "                Backtrack[i][j] = \"↓\"\n",
    "            elif s[i][j] == s[i][j-1]:\n",
    "                Backtrack[i][j] = \"→\"\n",
    "            elif s[i][j] == s[i-1][j-1] + match:\n",
    "                Backtrack[i][j] = \"↘\"\n",
    "            \n",
    "    return Backtrack\n",
    "\n",
    "def OutputLCS(backtrack, v, i, j):\n",
    "    if i == 0 or j == 0:\n",
    "        return \"\"\n",
    "    if backtrack[i][j] == \"↓\":\n",
    "        return OutputLCS(backtrack, v, i - 1, j)\n",
    "    elif backtrack[i][j] == \"→\":\n",
    "        return OutputLCS(backtrack, v, i, j - 1)\n",
    "    else:\n",
    "        return OutputLCS(backtrack, v, i - 1, j - 1) + v[i - 1]\n",
    "    \n",
    "print(LongestCommonSubsequence(s,t))\n",
    "    \n",
    "f.close()"
   ]
  }
 ],
 "metadata": {
  "kernelspec": {
   "display_name": "Python 3 (ipykernel)",
   "language": "python",
   "name": "python3"
  },
  "language_info": {
   "codemirror_mode": {
    "name": "ipython",
    "version": 3
   },
   "file_extension": ".py",
   "mimetype": "text/x-python",
   "name": "python",
   "nbconvert_exporter": "python",
   "pygments_lexer": "ipython3",
   "version": "3.10.7"
  }
 },
 "nbformat": 4,
 "nbformat_minor": 5
}
