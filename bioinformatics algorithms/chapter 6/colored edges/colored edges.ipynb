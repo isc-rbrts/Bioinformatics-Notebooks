{
 "cells": [
  {
   "cell_type": "code",
   "execution_count": 36,
   "id": "53763d98",
   "metadata": {},
   "outputs": [
    {
     "name": "stdout",
     "output_type": "stream",
     "text": [
      "(8, 7), (2, 5), (6, 4), (3, 1)\n"
     ]
    }
   ],
   "source": [
    "f = open(\"sample.txt\",\"r\")\n",
    "c = f.readline().split(')')\n",
    "f.close()\n",
    "P = []\n",
    "for chromosome in c[:-1]:\n",
    "    P.append([int(x) for x in chromosome[1:].split()])\n",
    "    \n",
    "def ColoredEdges(P):\n",
    "    Edges = []\n",
    "    for chromosome in P:\n",
    "        Nodes = ChromosomeToCycle(chromosome)\n",
    "        for i in range(len(Nodes) - 2, 1, -2):\n",
    "            Edges.append((Nodes[i], Nodes[i - 1]))\n",
    "            \n",
    "        Edges.insert(0, (Nodes[0], Nodes[-1]))\n",
    "    return Edges\n",
    "    \n",
    "def ChromosomeToCycle(chromosome):\n",
    "    Nodes = []\n",
    "    for i in chromosome:\n",
    "        if i > 0:\n",
    "            Nodes.append(2*i - 1)\n",
    "            Nodes.append(2*i)\n",
    "        else:\n",
    "            Nodes.append(-2*i)\n",
    "            Nodes.append(-2*i - 1)\n",
    "            \n",
    "    return Nodes\n",
    "\n",
    "print(str(ColoredEdges(P))[1:-1])"
   ]
  }
 ],
 "metadata": {
  "kernelspec": {
   "display_name": "Python 3 (ipykernel)",
   "language": "python",
   "name": "python3"
  },
  "language_info": {
   "codemirror_mode": {
    "name": "ipython",
    "version": 3
   },
   "file_extension": ".py",
   "mimetype": "text/x-python",
   "name": "python",
   "nbconvert_exporter": "python",
   "pygments_lexer": "ipython3",
   "version": "3.10.7"
  }
 },
 "nbformat": 4,
 "nbformat_minor": 5
}
