{
 "cells": [
  {
   "cell_type": "code",
   "execution_count": 10,
   "id": "3b29e0e9",
   "metadata": {},
   "outputs": [
    {
     "name": "stdout",
     "output_type": "stream",
     "text": [
      "0 1 2 3 4 5 6 7 8 9 10 11 12 13 16 14 17 18 15 19\n"
     ]
    }
   ],
   "source": [
    "from collections import defaultdict\n",
    "\n",
    "f = open(\"dataset_865456_3.txt\",\"r\")\n",
    "\n",
    "graph = defaultdict(list)\n",
    "while line := f.readline():\n",
    "    node = line.split(':')\n",
    "    for x in node[1].split():\n",
    "        graph[int(node[0])].append(int(x))\n",
    "        \n",
    "        \n",
    "def TopologicalOrdering(graph):\n",
    "    reverse_graph = defaultdict(list)\n",
    "    for key in graph:\n",
    "        for node in graph[key]:\n",
    "            reverse_graph[node].append(key)\n",
    "    \n",
    "    L = list()\n",
    "    Candidates = set()\n",
    "    for key in graph:\n",
    "        if key not in reverse_graph:\n",
    "            Candidates.add(key)\n",
    "    while len(Candidates):\n",
    "        a = list(Candidates)[0]\n",
    "        L.append(a)\n",
    "        Candidates.remove(a)\n",
    "        \n",
    "        for node in graph[a]:\n",
    "            if a in reverse_graph[node]:\n",
    "                reverse_graph[node].remove(a)\n",
    "                \n",
    "            if len(reverse_graph[node]) == 0:\n",
    "                Candidates.add(node)\n",
    "                \n",
    "    for key in reverse_graph:\n",
    "        if len(reverse_graph[key]):\n",
    "            return \"Not a DAG\"\n",
    "        \n",
    "    return L\n",
    "        \n",
    "out = \"\"\n",
    "for node in TopologicalOrdering(graph):\n",
    "    out += str(node) + \" \"\n",
    "print(out.strip(\" \"))\n",
    "\n",
    "f.close()    "
   ]
  }
 ],
 "metadata": {
  "kernelspec": {
   "display_name": "Python 3 (ipykernel)",
   "language": "python",
   "name": "python3"
  },
  "language_info": {
   "codemirror_mode": {
    "name": "ipython",
    "version": 3
   },
   "file_extension": ".py",
   "mimetype": "text/x-python",
   "name": "python",
   "nbconvert_exporter": "python",
   "pygments_lexer": "ipython3",
   "version": "3.10.7"
  }
 },
 "nbformat": 4,
 "nbformat_minor": 5
}
