{
 "cells": [
  {
   "cell_type": "code",
   "execution_count": 1,
   "id": "6c4c4226",
   "metadata": {},
   "outputs": [
    {
     "name": "stdout",
     "output_type": "stream",
     "text": [
      "TACGG GGTAC TCACA GTGGA GTTCG CTTAT AGGCA AAACA CTTGT TTCAA GACCC GCTAA TTAAA AGCCG TCGCC ATCGG CAGTT GGCTG GACCA AGCCA CGGAG CTCCA AAGTG TTTAA GGTAA TAGAC CGTTC TAAAC ATGGG GACTC ATTCA GCGCT CTGGG TCGGT TGGTA GGCAC AGGTC GGTAT CATGT AAGAC GTGAT GATAC CCGAC AAACG TTCAC GTTTC CTAAG AGTTC GGGAT CAGGG CAAAG GTTCC ACGAT TTAGT CCATC CTTGC ACTCT GCAAT GGTCC TGTTG GCCGT CCTGT GCCTG TATTC GTAAA CGCGT CACAC CATAA ACAGA TACTA GGTGT ACCTG GAACG TACGA ATAGT TGTCC AAAAC ATAAT CCGTT AACCA AACCC GTAGG CCTGC CACTG AGCAG AGCGT GACAA CTCGA CGTTG CCCCA CGATC GTAAG CTCAC TCAAT AAGTA TGTTC AGTTA TTACA ATACC CATTC ATCGC CTACG CCTAC GTACA TTGGA CAGGT CTCGC AACAT CCTCA GCATT AGGTA CCACG TCAGT CAACA TAGGT GCATA CTTCG TAATC GCCCG TACAA GATTA GATTC ATTTG ATATG AGCAT CTCGT CATCC GGTCG GATTT TTATG TCGAT ACTAC GTCGA TAATG CAGTA CGCAC TTGCA TCCTA ACCGC CCCTG AGCTC CTAGA GACCT GCCAT CGGTG GCCCA GTACC GGTTC CGACT TGGAG CCTGA CTCAG TGATC ATCTG GATGG TTGAC CATCA GCTCA ATTTA CTGGT ATCAA ACCAT GCTGT CATCT TGAAT CGTAC ACCGG TAGTT TGGTG CTCGG CGGGC AGACT TGAGG GATCA GTCCA TGACT TAGCC CGTCC TAGAT TACCA TCGTC ATGCT CACGT ACTAG TCAAC AGTGG GCTGA CCCGG CACCA GTATA TTGAT ACAGC AGGAT CGGTA ACCAC GAGGT AGTTG GATGT CTTGA AGAAC CACCC GCGAT GGCAT CGTGT TGTAC TATGA TCGAC GTAGT CACGG CACAT ACCAA TCGGA CAGAT GGACG TACCT GTTAC GATAT ATCCC CCTCG TAGTG GGCCC GGAGC TATGG GCTAG CAGAA ATAAA ACGCA CGATG TCGCA AGACC CTGGA TCGGG TTAGC GCGGA AATTG ATGTC ATTGG TCCGG GACGC GCCCC CACCT CTACT TGGTC AATAC AAGCA GCTCG ATGCG GACGA CAACG CAAGG ACCAG TCTAC CATAG ATGCA AGGCG TCACT AGGGT ACCGA CGAGC TTAAC AAGAT TAGCT CCGGT ATGAC AGTGT AATAG TGAAC GTGAC CAGTG GGCGT CCACC ATAAG GTAAC ATGTA ACAAG AGTCA TAGCA AGAGC CCCGT CTGTG CGACG CACTA CTCAT TAAAT AACAA TCAGG TTCGA TCACC ATCGA ATAGA TGACA AGAGT TCAAG ACTGA CATCG GGATT GTAGA TGGAC TGGTT TATGC GCCAC CATTG TGTAG TACCG AGCTT CAAGA ATAAC TTAGA GAACT CTATG ACATT GTAAT ACCCA GTTGG GAGTT TCTCG ACGTT AGATG GTTGA CAAGT TTAGG GTCGC GAAGA CGTCA AAATG ACGAG TTCGC TACCC GACGT TGTGT ACGAC CGTGC CACTC AACGT ACTCA CTAAC AGTGC TCGCT CTCCT ACTCG TCTTG TTACC CGTAA CACGC AGATA TGTAA ATGGC CTATC CGTCT ACCTC TATAG TTCTA GTCAT ACTGT TCGGC GGCTC CGCGC TAGTC GGTTG GAAGT ACCCG TACGC TGCAC TCCCA GCTAC ACAGT AGTTT GCAGA TAGAA ACGTC ATGCC ACGGT CCCTA TCCCC GTCGG ACGGG AACCT CTAGC AGACA GCGTA AGGTT ATTGC ATTGT TCTAA ACGGA ACCCC TCATG TGCCC CACCG ACGCG CGAAG GATCC CCGTA GGGCA TATCG AATGT TCCCG AAGTT ACATG CCTCC CGATA ACAAT TTCAG CGTTT CAGAC CCGTC ATGGT CTGAC AAGGT AAGCT TTGGT CCCAT CCGAT CCAGT ATAGG CGTTA TCTAG AGCCC GCGTC TTCGG CGTAG GTCAC CGCTC TGCTC ACGAA TGAGT ACTGG AGTCG TGTGA TAGCG TCCAA TTTCA TCCGA TGGCT ATCTC GATCT GAGAC TCCAT GGACA ACACC CGCCC AACAC TCATC CCTAG TAAGT AGTAA AGGTG GCGCA TTCCA GCTCC AACCG TCCTC AGATC TCCGT CCTAT ACACG TACAC ATTGA CATGG ATAGC CGGTC TACTG AAGCC TGCTA TGCCT ATACG ATTCG CGAAC ACCGT TGACC AACTG ATCAG ACCTA ATCGT GCTAT ATGAT CCACA ATGAG CTACA GAGCA CCCAG CAACC AATGA GCACC GGACT AGGCC TATAA GTGGT AGCCT GTTGT CTGTA TCCAC TCATA CAATC ACTCC GCCTC TCGTT TGTTA CTACC ACAGG CCCGC TTGTC CCTGG ACGTG GTATG CTTCA TGCTT TAGGC GGTGG TAGGA TGGGA TGATA TGCGC AATGC CTCTT GAAAC CGGAC GGCCA AATCG GCACG TACAG CTAAT CGTAT GGTGC TCAGC GGTGA CGCTG ACGTA AGGAC ACTTG TCGAA AGTAG GACTG GGGAC CCATA AACTC GGTCA GGGTT TCGAG GGGTA AGAAT GCCTA CAATA CTAGT TAACC GTCAA AAAAT CCGTG TGGGT GGATC TGACG AACGA CGACC CGTCG TTGAA CTAGG GGACC AACTT TCAAA AAACC TAACT GGTTA AAATA AGACG GATAG TAAGC GAGTC AGCTG TAAAG CGGCC GACAC ACATC GAACA GAATG CCAAG ACCTT GTGTA ACCCT ATCAC CAGGC GATCG GTAGC TCGCG TGCGA ATGTT TCTGA GCACT CTTAG GACAG AATGG TCCTG GTTGC TGGAA CTTCC TAGAG GACCG TAACA TTCAT CCAGA ATCCT AGATT GTTCA CATGC CACAG TGCTG CCATT GAACC CGTGG GCGTT CGGAA GGAGA GTGCT CGACA GCTTC GACAT AACAG GGAAC CGCAT CGATT CTCAA CGGAT ACAAC CCCAC \n"
     ]
    }
   ],
   "source": [
    "f= open(\"dataset_865379_8.txt\",\"r\")\n",
    "\n",
    "k, d = [int(x) for x in next(f).split()]\n",
    "Dna = [str(x) for x in next(f).split()]\n",
    "\n",
    "def MotifEnumeration(Dna, k, d):\n",
    "    Patterns = set()\n",
    "    \n",
    "    for sequence in Dna:\n",
    "        for i in range(len(sequence) - k + 1):\n",
    "            \n",
    "            pattern = sequence[i:i + k]\n",
    "            for neighbor in Neighbors(pattern, d):\n",
    "                    \n",
    "                    noMatch = 0\n",
    "                    for sequence in Dna:\n",
    "                        foundFlag = 0\n",
    "                        for i in range(len(sequence) - k + 1):\n",
    "                            if HammingDistance(neighbor, sequence[i:i + k]) <= d:\n",
    "                                foundFlag = 1\n",
    "                        if foundFlag == 0:\n",
    "                            noMatch = 1\n",
    "                            \n",
    "                    if not noMatch:\n",
    "                        Patterns.add(neighbor)\n",
    "                            \n",
    "    return Patterns            \n",
    "        \n",
    "        \n",
    "def Neighbors(pattern, d):\n",
    "    if d == 0:\n",
    "        return [pattern]\n",
    "    if len(pattern) == 1:\n",
    "        return [\"A\", \"C\", \"T\", \"G\"]\n",
    "    \n",
    "    Neighborhood = set()\n",
    "    SuffixNeighbors = Neighbors(pattern[1:], d)\n",
    "    \n",
    "    for string in SuffixNeighbors:\n",
    "        if HammingDistance(string, pattern[1:]) < d:\n",
    "            for nucleotide in [\"A\", \"C\", \"T\", \"G\"]:\n",
    "                Neighborhood.add((nucleotide + string))\n",
    "        else:\n",
    "            Neighborhood.add((pattern[:1] + string))\n",
    "    return Neighborhood\n",
    "\n",
    "def HammingDistance(string1, string2):\n",
    "    if len(string1) != len(string2):\n",
    "        return -1\n",
    "    \n",
    "    dist = 0\n",
    "    \n",
    "    for i in range(len(string1)):\n",
    "        if string1[i] != string2[i]:\n",
    "            dist +=1\n",
    "            \n",
    "    return dist\n",
    "\n",
    "patterns = MotifEnumeration(Dna, k, d)\n",
    "out = \"\"\n",
    "for p in patterns:\n",
    "    out = out + p + \" \"\n",
    "print(out)\n",
    "\n",
    "f.close()"
   ]
  }
 ],
 "metadata": {
  "kernelspec": {
   "display_name": "Python 3 (ipykernel)",
   "language": "python",
   "name": "python3"
  },
  "language_info": {
   "codemirror_mode": {
    "name": "ipython",
    "version": 3
   },
   "file_extension": ".py",
   "mimetype": "text/x-python",
   "name": "python",
   "nbconvert_exporter": "python",
   "pygments_lexer": "ipython3",
   "version": "3.10.7"
  }
 },
 "nbformat": 4,
 "nbformat_minor": 5
}
