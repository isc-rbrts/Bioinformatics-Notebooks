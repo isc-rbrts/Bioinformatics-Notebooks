{
 "cells": [
  {
   "cell_type": "code",
   "execution_count": 15,
   "id": "bdb7b812",
   "metadata": {},
   "outputs": [
    {
     "name": "stdout",
     "output_type": "stream",
     "text": [
      "GCTAAAGGC: 116 123 6518 7559 7566 7610 7617\n",
      "GCTTGAAGC: 214 1618 1625 4091 4789 4796\n",
      "CTGCTCACT: 645 2565 2572 3367 4826\n",
      "TGTATCGTG: 783 790 5744 5751 6577 6765\n",
      "TGGATTGTG: 1124 3588 3595 5182\n",
      "AAGAGCCAA: 1233 1240 2379 2386 4064 4071 5295 5302 7261 7268\n",
      "TCTCCAATC: 1362 1369 2704 5930 7537 8096 8103\n",
      "CGGTGCTCG: 2150 5047 5238 8290\n"
     ]
    }
   ],
   "source": [
    "from collections import defaultdict\n",
    "\n",
    "f = open(\"dataset_865522_8.txt\",\"r\")\n",
    "Text = f.readline().strip('\\n')\n",
    "Patterns = [str(x) for x in next(f).split()]\n",
    "f.close()\n",
    "\n",
    "def TrieMatching(Text, Trie):\n",
    "    matches = defaultdict(list)\n",
    "    \n",
    "    for i in range(len(Text)):\n",
    "        c = Text[i]\n",
    "        TrieNode = 0\n",
    "        pattern = \"\"\n",
    "        \n",
    "        while True:\n",
    "            if Trie[TrieNode].get(\"leaf\") is not None:\n",
    "                matches[pattern].append(i)\n",
    "                break\n",
    "            \n",
    "            nextNode = Trie[TrieNode].get(c)\n",
    "            if nextNode is not None:\n",
    "                TrieNode = nextNode\n",
    "                pattern += c\n",
    "                \n",
    "                if i + len(pattern) < len(Text):\n",
    "                    c = Text[i + len(pattern)]\n",
    "                else:\n",
    "                    if Trie[TrieNode].get(\"leaf\") is not None:\n",
    "                        matches[pattern].append(i)\n",
    "                    break\n",
    "                    \n",
    "            else:\n",
    "                break\n",
    "    \n",
    "    return matches    \n",
    "    \n",
    "    \n",
    "def TrieConstruction(Patterns):\n",
    "    Trie = defaultdict(dict)\n",
    "    maxNode = 0\n",
    "    \n",
    "    for Pattern in Patterns:\n",
    "        currNode = 0\n",
    "    \n",
    "        for c in Pattern:\n",
    "            checkExisting = Trie[currNode].get(c)\n",
    "            if checkExisting is not None:\n",
    "                currNode = checkExisting\n",
    "            else:\n",
    "                maxNode += 1\n",
    "                Trie[currNode].update({c: maxNode})\n",
    "                currNode = maxNode\n",
    "        Trie[maxNode].update({\"leaf\" : True})\n",
    "                \n",
    "    return Trie\n",
    "\n",
    "Trie = TrieConstruction(Patterns)\n",
    "Matches = TrieMatching(Text, Trie)\n",
    "for pattern in Matches:\n",
    "    out = pattern + \": \"\n",
    "    for i in Matches[pattern]:\n",
    "        out += str(i) + \" \"\n",
    "    print(out.strip(\" \"))"
   ]
  }
 ],
 "metadata": {
  "kernelspec": {
   "display_name": "Python 3 (ipykernel)",
   "language": "python",
   "name": "python3"
  },
  "language_info": {
   "codemirror_mode": {
    "name": "ipython",
    "version": 3
   },
   "file_extension": ".py",
   "mimetype": "text/x-python",
   "name": "python",
   "nbconvert_exporter": "python",
   "pygments_lexer": "ipython3",
   "version": "3.10.7"
  }
 },
 "nbformat": 4,
 "nbformat_minor": 5
}
