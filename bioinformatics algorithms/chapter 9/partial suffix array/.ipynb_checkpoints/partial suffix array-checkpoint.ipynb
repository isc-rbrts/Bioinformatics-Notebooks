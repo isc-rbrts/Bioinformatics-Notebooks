{
 "cells": [
  {
   "cell_type": "code",
   "execution_count": null,
   "id": "c8fe46d1",
   "metadata": {},
   "outputs": [],
   "source": [
    "f = open(\"dataset_865525_2.txt\",\"r\")\n",
    "Text = f.readline().strip('\\n')\n",
    "f.close()\n",
    "\n",
    "def SuffixArray(Text):\n",
    "    suffixes = []\n",
    "    for i in range(len(Text)):\n",
    "        suffixes.append((Text[i:], i))\n",
    "    \n",
    "    suffixes.sort()\n",
    "    \n",
    "    return [pair[1] for pair in suffixes]\n",
    "\n",
    "out = \"\"\n",
    "for item in SuffixArray(Text):\n",
    "    out += str(item) + \" \"\n",
    "print(out)"
   ]
  }
 ],
 "metadata": {
  "kernelspec": {
   "display_name": "Python 3 (ipykernel)",
   "language": "python",
   "name": "python3"
  },
  "language_info": {
   "codemirror_mode": {
    "name": "ipython",
    "version": 3
   },
   "file_extension": ".py",
   "mimetype": "text/x-python",
   "name": "python",
   "nbconvert_exporter": "python",
   "pygments_lexer": "ipython3",
   "version": "3.10.7"
  }
 },
 "nbformat": 4,
 "nbformat_minor": 5
}
