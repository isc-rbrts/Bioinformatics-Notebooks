{
 "cells": [
  {
   "cell_type": "code",
   "execution_count": 12,
   "id": "4d2e0d24",
   "metadata": {},
   "outputs": [
    {
     "name": "stdout",
     "output_type": "stream",
     "text": [
      "(2, 4), (3, 5), (6, 7), (8, 10), (9, 12), (11, 13), (14, 15), (16, 18), (17, 19), (20, 26), (28, 30), (29, 32), (31, 33), (34, 35), (36, 37), (38, 39), (40, 41), (42, 43), (44, 45), (46, 47), (48, 49), (50, 51), (52, 54), (53, 55), (56, 57), (58, 59), (60, 62), (61, 64), (63, 65), (66, 68), (67, 69), (70, 71), (72, 74), (73, 75), (76, 78), (77, 80), (79, 82), (81, 83), (84, 85), (86, 87), (88, 90), (89, 91), (92, 93), (94, 96), (95, 97), (98, 100), (99, 101), (102, 103), (104, 106), (105, 107), (108, 109), (110, 111), (112, 114), (113, 116), (115, 118), (117, 120), (119, 121), (122, 123), (124, 1), (27, 21), (22, 23), (24, 25)\n"
     ]
    }
   ],
   "source": [
    "f = open(\"dataset_865473_2.txt\",\"r\")\n",
    "g = f.readline().split(')')\n",
    "i = [int(x) for x in next(f).split(',')]\n",
    "i1, i2, i3, i4 = i[0], i[1], i[2], i[3]\n",
    "f.close()\n",
    "GenomeGraph = []\n",
    "for edge in g[:-1]:\n",
    "    pair = [int(x) for x in edge.split(\"(\")[1].split(\", \")]\n",
    "    GenomeGraph.append((pair[0],pair[1]))\n",
    "\n",
    "def TwoBreakOnGenomeGraph(GenomeGraph, i1, i2, i3, i4):\n",
    "    order_flag = 0\n",
    "    index_i1 = 0\n",
    "    index_i3 = 0\n",
    "    \n",
    "    for edge in range(len(GenomeGraph)):\n",
    "        if GenomeGraph[edge] == (i1, i2) or GenomeGraph[edge] == (i2, i1):\n",
    "            if GenomeGraph[edge] == (i2, i1):\n",
    "                order_flag = 1\n",
    "            index_i1 = edge\n",
    "        elif GenomeGraph[edge] == (i3, i4) or GenomeGraph[edge] == (i4, i3):\n",
    "            index_i3 = edge\n",
    "    \n",
    "    if index_i3 < index_i1:\n",
    "        if not order_flag:\n",
    "            return GenomeGraph[:index_i3] + [(i4, i2)] + GenomeGraph[index_i1 +1:] + \\\n",
    "                                                [(i1, i3)] + GenomeGraph[index_i3+1:index_i1]\n",
    "        else:\n",
    "            return GenomeGraph[:index_i3] + [(i3, i1)] + GenomeGraph[index_i1 +1:] + \\\n",
    "                                                [(i2, i4)] + GenomeGraph[index_i3+1:index_i1]\n",
    "    else:\n",
    "        if not order_flag:\n",
    "            return GenomeGraph[:index_i1] + [(i1, i3)] + GenomeGraph[index_i3 +1:] + \\\n",
    "                                                [(i4, i2)] + GenomeGraph[index_i1+1:index_i3]\n",
    "        else:\n",
    "            return GenomeGraph[:index_i1] + [(i2, i4)] + GenomeGraph[index_i3 +1:] + \\\n",
    "                                                [(i1, i3)] + GenomeGraph[index_i1+1:index_i3]\n",
    "\n",
    "out = \"\"\n",
    "for edge in TwoBreakOnGenomeGraph(GenomeGraph, i1, i2, i3, i4):\n",
    "    out += str(edge) + \", \"\n",
    "print(out.strip(\", \"))\n",
    "    \n"
   ]
  }
 ],
 "metadata": {
  "kernelspec": {
   "display_name": "Python 3 (ipykernel)",
   "language": "python",
   "name": "python3"
  },
  "language_info": {
   "codemirror_mode": {
    "name": "ipython",
    "version": 3
   },
   "file_extension": ".py",
   "mimetype": "text/x-python",
   "name": "python",
   "nbconvert_exporter": "python",
   "pygments_lexer": "ipython3",
   "version": "3.10.7"
  }
 },
 "nbformat": 4,
 "nbformat_minor": 5
}
