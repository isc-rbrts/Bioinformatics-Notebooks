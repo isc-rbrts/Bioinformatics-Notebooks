{
 "cells": [
  {
   "cell_type": "code",
   "execution_count": 51,
   "id": "f23baaaf",
   "metadata": {},
   "outputs": [
    {
     "name": "stdout",
     "output_type": "stream",
     "text": [
      "448 450\n",
      "449 451\n"
     ]
    }
   ],
   "source": [
    "f = open(\"dataset_865452_12.txt\",\"r\")\n",
    "\n",
    "match_reward, mismatch_penalty, indel_penalty = [int(x) for x in next(f).split()]\n",
    "s, t = f.readline().strip('\\n'), f.readline().strip('\\n') \n",
    "f.close()\n",
    "\n",
    "def MiddleEdge(match_reward, mismatch_penalty, indel_penalty, s, t):\n",
    "    n, m = len(s) + 1, len(t) + 1\n",
    "\n",
    "    # FromSource(i)\n",
    "    column1 = [0 - indel_penalty * i for i in range(n)]\n",
    "    column2 = [0 for i in range(n)]\n",
    "    for t_index in range(int(len(t)/2) if len(t)%2 == 1 else int((len(t)+1)/2)):\n",
    "        column2[0] = -(indel_penalty * (t_index+1))\n",
    "        for i in range(1,n):\n",
    "            match = match_reward if s[i-1] == t[t_index] else -mismatch_penalty\n",
    "            column2[i] = max(column1[i-1] + match, column1[i] - indel_penalty, column2[i-1] - indel_penalty)\n",
    "            \n",
    "        column1 = column2.copy()\n",
    "    FromColumn = column1\n",
    "    \n",
    "    \n",
    "    # ToSink(i)\n",
    "    s_reverse = s[::-1]\n",
    "    t_reverse = t[::-1]\n",
    "    column1_reverse = [0 - indel_penalty * i for i in range(n)]\n",
    "    column2_reverse = [0 for i in range(n)]\n",
    "    for t_index in range(int((len(t)+1)/2)):\n",
    "        column2_reverse[0] = -(indel_penalty * (t_index+1))\n",
    "        for i in range(1,n):\n",
    "            match = match_reward if s_reverse[i-1] == t_reverse[t_index] else -mismatch_penalty\n",
    "            column2_reverse[i] = max(column1_reverse[i-1] + match, column1_reverse[i] - indel_penalty, \\\n",
    "                                     column2_reverse[i-1] - indel_penalty)\n",
    "        \n",
    "        column1_reverse = column2_reverse.copy()\n",
    "    ToColumn = column1_reverse[::-1]\n",
    "    \n",
    "    middle_nodes = [FromColumn[i] + ToColumn[i] for i in range(n)]\n",
    "    middle_i = -1\n",
    "    max_node_value = max(middle_nodes)\n",
    "    for i in range(len(middle_nodes)):\n",
    "        if middle_nodes[i] == max_node_value:\n",
    "            middle_i = i\n",
    "            break\n",
    "    \n",
    "    mid = int(len(t)/2)\n",
    "    edges = dict()\n",
    "    edges.update({((middle_i,mid),(middle_i,mid+1)): max_node_value - indel_penalty})\n",
    "    if middle_i < len(s):\n",
    "        edges.update({((middle_i,mid),(middle_i+1,mid)): max_node_value - indel_penalty})\n",
    "        match = match_reward if s[middle_i+1] == t[mid] else -mismatch_penalty\n",
    "        edges.update({((middle_i,mid),(middle_i+1,mid+1)): max_node_value + match})\n",
    "    \n",
    "    max_edge =((-1,-1), (-1,-1))\n",
    "    max_length = float('-inf')\n",
    "    for edge in edges:\n",
    "        if edges[edge] >= max_length:\n",
    "            max_edge = edge\n",
    "            max_length = edges[edge]\n",
    "            \n",
    "            \n",
    "    return max_edge\n",
    "\n",
    "for node in MiddleEdge(match_reward, mismatch_penalty, indel_penalty, t, s):\n",
    "    print(str(node[0]) + \" \" + str(node[1]))"
   ]
  }
 ],
 "metadata": {
  "kernelspec": {
   "display_name": "Python 3 (ipykernel)",
   "language": "python",
   "name": "python3"
  },
  "language_info": {
   "codemirror_mode": {
    "name": "ipython",
    "version": 3
   },
   "file_extension": ".py",
   "mimetype": "text/x-python",
   "name": "python",
   "nbconvert_exporter": "python",
   "pygments_lexer": "ipython3",
   "version": "3.10.7"
  }
 },
 "nbformat": 4,
 "nbformat_minor": 5
}
