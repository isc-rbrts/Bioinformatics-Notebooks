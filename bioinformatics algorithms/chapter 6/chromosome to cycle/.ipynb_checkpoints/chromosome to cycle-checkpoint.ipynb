{
 "cells": [
  {
   "cell_type": "code",
   "execution_count": 14,
   "id": "c09e6a32",
   "metadata": {},
   "outputs": [
    {
     "name": "stdout",
     "output_type": "stream",
     "text": [
      "(1 2 3 4 5 6 8 7 10 9 11 12 13 14 15 16 17 18 20 19 21 22 23 24 25 26 27 28 30 29 31 32 33 34 36 35 38 37 40 39 42 41 43 44 46 45 48 47 49 50 51 52 54 53 55 56 58 57 60 59 61 62 64 63 65 66 68 67 69 70 72 71 73 74 75 76 78 77 80 79 82 81 83 84 86 85 88 87 90 89 92 91 94 93 95 96 97 98 99 100 101 102 103 104 106 105 108 107 110 109 112 111 114 113 115 116 117 118 120 119 122 121 124 123 125 126 127 128 129 130)\n"
     ]
    }
   ],
   "source": [
    "f = open(\"dataset_865472_4.txt\",\"r\")\n",
    "c = f.readline().split(')')[0][1:]\n",
    "chromosome = [int(x) for x in c.split()]\n",
    "f.close()\n",
    "\n",
    "def ChromosomeToCycle(chromosome):\n",
    "    Nodes = []\n",
    "    for i in chromosome:\n",
    "        if i > 0:\n",
    "            Nodes.append(2*i - 1)\n",
    "            Nodes.append(2*i)\n",
    "        else:\n",
    "            Nodes.append(-2*i)\n",
    "            Nodes.append(-2*i - 1)\n",
    "            \n",
    "    return Nodes\n",
    "\n",
    "out = \"(\"\n",
    "for i in ChromosomeToCycle(chromosome):\n",
    "    out += str(i) + \" \"\n",
    "print(out.strip(\" \") + \")\")\n",
    "    \n",
    "\n",
    "            "
   ]
  }
 ],
 "metadata": {
  "kernelspec": {
   "display_name": "Python 3 (ipykernel)",
   "language": "python",
   "name": "python3"
  },
  "language_info": {
   "codemirror_mode": {
    "name": "ipython",
    "version": 3
   },
   "file_extension": ".py",
   "mimetype": "text/x-python",
   "name": "python",
   "nbconvert_exporter": "python",
   "pygments_lexer": "ipython3",
   "version": "3.10.7"
  }
 },
 "nbformat": 4,
 "nbformat_minor": 5
}
