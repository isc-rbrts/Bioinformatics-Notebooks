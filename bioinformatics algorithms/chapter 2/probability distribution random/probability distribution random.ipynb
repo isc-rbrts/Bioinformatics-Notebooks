{
 "cells": [
  {
   "cell_type": "code",
   "execution_count": 1,
   "id": "9d889d05",
   "metadata": {},
   "outputs": [],
   "source": [
    "import random\n",
    "\n",
    "def Random(p):\n",
    "    r = random.random()\n",
    "    C = sum(p)\n",
    "    \n",
    "    s = 0.0\n",
    "    for i in range(len(p)):\n",
    "        s += (p[i] / C)\n",
    "        if s >= r:\n",
    "            return i"
   ]
  }
 ],
 "metadata": {
  "kernelspec": {
   "display_name": "Python 3 (ipykernel)",
   "language": "python",
   "name": "python3"
  },
  "language_info": {
   "codemirror_mode": {
    "name": "ipython",
    "version": 3
   },
   "file_extension": ".py",
   "mimetype": "text/x-python",
   "name": "python",
   "nbconvert_exporter": "python",
   "pygments_lexer": "ipython3",
   "version": "3.10.7"
  }
 },
 "nbformat": 4,
 "nbformat_minor": 5
}
