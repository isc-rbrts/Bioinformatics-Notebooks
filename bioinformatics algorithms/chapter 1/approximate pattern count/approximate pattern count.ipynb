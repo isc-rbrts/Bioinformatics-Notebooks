{
 "cells": [
  {
   "cell_type": "code",
   "execution_count": 2,
   "id": "34cf319f",
   "metadata": {},
   "outputs": [
    {
     "name": "stdout",
     "output_type": "stream",
     "text": [
      "40\n"
     ]
    }
   ],
   "source": [
    "f = open(\"dataset_865367_6.txt\", \"r\")\n",
    "\n",
    "pattern = f.readline()\n",
    "pattern = pattern[:len(pattern) - 1]\n",
    "genome = f.readline()\n",
    "genome = genome[:len(genome) - 1]\n",
    "d = int(f.readline())\n",
    "\n",
    "def ApproximatePatternCount(pattern, genome, d):\n",
    "    locations = []\n",
    "    \n",
    "    for i in range(0, len(genome) - len(pattern) + 1):\n",
    "        if HammingDistance(genome[i:i + len(pattern)], pattern) <= d:\n",
    "            locations.append(i)\n",
    "            \n",
    "    return len(locations)\n",
    "                            \n",
    "def HammingDistance(string1, string2):\n",
    "    if len(string1) != len(string2):\n",
    "        return -1\n",
    "    \n",
    "    dist = 0\n",
    "    \n",
    "    for i in range(len(string1)):\n",
    "        if string1[i] != string2[i]:\n",
    "            dist +=1\n",
    "            \n",
    "    return dist\n",
    "\n",
    "print(ApproximatePatternCount(pattern, genome, d))\n",
    "\n",
    "f.close()"
   ]
  }
 ],
 "metadata": {
  "kernelspec": {
   "display_name": "Python 3 (ipykernel)",
   "language": "python",
   "name": "python3"
  },
  "language_info": {
   "codemirror_mode": {
    "name": "ipython",
    "version": 3
   },
   "file_extension": ".py",
   "mimetype": "text/x-python",
   "name": "python",
   "nbconvert_exporter": "python",
   "pygments_lexer": "ipython3",
   "version": "3.10.7"
  }
 },
 "nbformat": 4,
 "nbformat_minor": 5
}
