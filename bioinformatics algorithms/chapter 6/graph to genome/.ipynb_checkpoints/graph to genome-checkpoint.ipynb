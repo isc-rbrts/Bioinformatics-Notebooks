{
 "cells": [
  {
   "cell_type": "code",
   "execution_count": 13,
   "id": "e35ca39b",
   "metadata": {},
   "outputs": [
    {
     "name": "stdout",
     "output_type": "stream",
     "text": [
      "['(2, 4', ', (3, 6', ', (5, 1', ', (7, 9', ', (10, 12', ', (11, 8', '']\n",
      "(2, 4\n",
      ", (3, 6\n",
      ", (5, 1\n",
      ", (7, 9\n",
      ", (10, 12\n",
      ", (11, 8\n",
      "[(2, 4), (3, 6), (5, 1), (7, 9), (10, 12), (11, 8)]\n"
     ]
    }
   ],
   "source": [
    "f = open(\"sample.txt\", \"r\")\n",
    "g = f.readline().split(')')\n",
    "f.close()\n",
    "GenomeGraph = []\n",
    "for edge in g[:-1]:\n",
    "    print(edge)\n",
    "    pair = [int(x) for x in edge.split(\"(\")[1].split(\", \")]\n",
    "    GenomeGraph.append((pair[0],pair[1]))\n",
    "    \n",
    "def GraphToGenome(GenomeGraph):\n",
    "    return"
   ]
  }
 ],
 "metadata": {
  "kernelspec": {
   "display_name": "Python 3 (ipykernel)",
   "language": "python",
   "name": "python3"
  },
  "language_info": {
   "codemirror_mode": {
    "name": "ipython",
    "version": 3
   },
   "file_extension": ".py",
   "mimetype": "text/x-python",
   "name": "python",
   "nbconvert_exporter": "python",
   "pygments_lexer": "ipython3",
   "version": "3.10.7"
  }
 },
 "nbformat": 4,
 "nbformat_minor": 5
}
