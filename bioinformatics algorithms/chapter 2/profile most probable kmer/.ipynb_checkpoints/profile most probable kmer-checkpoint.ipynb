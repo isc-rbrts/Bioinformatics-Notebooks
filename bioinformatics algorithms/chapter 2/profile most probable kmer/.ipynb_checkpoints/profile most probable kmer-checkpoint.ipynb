{
 "cells": [
  {
   "cell_type": "code",
   "execution_count": 20,
   "id": "3a6d3f81",
   "metadata": {},
   "outputs": [
    {
     "name": "stdout",
     "output_type": "stream",
     "text": [
      "CTGCTTAGAGCGG\n"
     ]
    }
   ],
   "source": [
    "f = open(\"dataset_865382_3.txt\",\"r\")\n",
    "\n",
    "Text = f.readline()\n",
    "Text = Text[:len(Text) - 1]\n",
    "k = int(f.readline())\n",
    "freqs = []\n",
    "Nucleotides = [\"A\",\"C\",\"G\",\"T\"]\n",
    "for i in range(4):\n",
    "    freqs.append([float(x) for x in next(f).split()])\n",
    "    \n",
    "Profile = []\n",
    "for i in range(k):\n",
    "    Profile.append({})\n",
    "    for j in range(4):\n",
    "        Profile[i].update({Nucleotides[j]:freqs[j][i]})\n",
    "    \n",
    "    \n",
    "def ProfileMostProbableKmer(Text, k, Profile):\n",
    "    MostProbableKmer = \"\"\n",
    "    KmerProbability = 0\n",
    "    \n",
    "    for i in range(len(Text) - k + 1):\n",
    "        kmer = Text[i:i + k]\n",
    "        prob = 1\n",
    "        for n in range(len(kmer)):\n",
    "            prob = prob * Profile[n][kmer[n]]\n",
    "            \n",
    "        if prob > KmerProbability:\n",
    "            KmerProbability = prob\n",
    "            MostProbableKmer = kmer\n",
    "            \n",
    "    return MostProbableKmer\n",
    "            \n",
    "print(ProfileMostProbableKmer(Text, k, Profile))    \n",
    "\n",
    "f.close()"
   ]
  },
  {
   "cell_type": "code",
   "execution_count": null,
   "id": "d9c22aff",
   "metadata": {},
   "outputs": [],
   "source": []
  }
 ],
 "metadata": {
  "kernelspec": {
   "display_name": "Python 3 (ipykernel)",
   "language": "python",
   "name": "python3"
  },
  "language_info": {
   "codemirror_mode": {
    "name": "ipython",
    "version": 3
   },
   "file_extension": ".py",
   "mimetype": "text/x-python",
   "name": "python",
   "nbconvert_exporter": "python",
   "pygments_lexer": "ipython3",
   "version": "3.10.7"
  }
 },
 "nbformat": 4,
 "nbformat_minor": 5
}
