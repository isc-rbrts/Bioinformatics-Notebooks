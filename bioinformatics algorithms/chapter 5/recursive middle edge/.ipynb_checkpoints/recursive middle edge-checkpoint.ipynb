{
 "cells": [
  {
   "cell_type": "code",
   "execution_count": 60,
   "id": "5a3cd966",
   "metadata": {},
   "outputs": [
    {
     "name": "stdout",
     "output_type": "stream",
     "text": [
      "\n",
      "((1, 1), (2, 2))\n"
     ]
    }
   ],
   "source": [
    "f = open(\"sample.txt\",\"r\")\n",
    "\n",
    "top, bottom, left, right = [int(x) for x in next(f).split()]\n",
    "s, t = f.readline().strip('\\n'), f.readline().strip('\\n')\n",
    "f.close()\n",
    "\n",
    "MATCH_REWARD, MISMATCH_PENALTY, INDEL_PENALTY = 1, 1, 1\n",
    "\n",
    "def RecursiveMiddleEdge(s, t, top, bottom, left, right):\n",
    "    #n, m = len(s) + 1, len(t) + 1\n",
    "    n, m = bottom - top + 1, right - left + 1\n",
    "\n",
    "    # FromSource(i)\n",
    "    column1 = [0 - INDEL_PENALTY * i for i in range(n)]\n",
    "    column2 = [0 for i in range(n)]\n",
    "    for t_index in range(int(len(t)/2)):\n",
    "        column2[0] = -(INDEL_PENALTY * (t_index+1))\n",
    "        for i in range(1,n):\n",
    "            match = MATCH_REWARD if s[i-1] == t[t_index] else -MISMATCH_PENALTY\n",
    "            column2[i] = max(column1[i-1] + match, column1[i] - INDEL_PENALTY, column2[i-1] - INDEL_PENALTY)\n",
    "            \n",
    "        column1 = column2.copy()\n",
    "    FromColumn1 = column1\n",
    "    \n",
    "    print()\n",
    "    # ToSink(i)\n",
    "    s_reverse = s[::-1]\n",
    "    t_reverse = t[::-1]\n",
    "    column1_reverse = [0 - INDEL_PENALTY * i for i in range(n)]\n",
    "    column2_reverse = [0 for i in range(n)]\n",
    "    for t_index in range(int(len(t)/2) + 1):\n",
    "        column2_reverse[0] = -(INDEL_PENALTY * (t_index+1))\n",
    "        for i in range(1,n):\n",
    "            match = MATCH_REWARD if s_reverse[i-1] == t_reverse[t_index] else -MISMATCH_PENALTY\n",
    "            column2_reverse[i] = max(column1_reverse[i-1] + match, column1_reverse[i] - INDEL_PENALTY, \\\n",
    "                                     column2_reverse[i-1] - INDEL_PENALTY)\n",
    "        \n",
    "        column1_reverse = column2_reverse.copy()\n",
    "    ToColumn1 = column1_reverse[::-1]\n",
    "    \n",
    "    middle_nodes1 = [FromColumn1[i] + ToColumn1[i] for i in range(n)]\n",
    "    middle_i1 = -1\n",
    "    max_node_value1 = max(middle_nodes1)\n",
    "    for i in range(len(middle_nodes1)):\n",
    "        if middle_nodes1[i] == max_node_value1:\n",
    "            middle_i1 = i\n",
    "\n",
    "    mid = int(len(t)/2)\n",
    "    edges = dict()\n",
    "    edges.update({((middle_i1,mid),(middle_i1,mid)): max_node_value1 - INDEL_PENALTY})\n",
    "    if middle_i1 < n:\n",
    "        match = MATCH_REWARD if s[middle_i1] == t[mid] else -MISMATCH_PENALTY\n",
    "        edges.update({((middle_i1,mid),(middle_i1+1,mid+1)): max_node_value1 + match})\n",
    "    \n",
    "    max_edge =((-1,-1), (-1,-1))\n",
    "    max_length = float('-inf')\n",
    "    for edge in edges:\n",
    "        if edges[edge] >= max_length:\n",
    "            max_edge = edge\n",
    "            max_length = edges[edge]\n",
    "         \n",
    "            \n",
    "    return max_edge\n",
    "    \n",
    "    \n",
    "    \n",
    "print(RecursiveMiddleEdge(s, t, top, bottom, left, right))"
   ]
  }
 ],
 "metadata": {
  "kernelspec": {
   "display_name": "Python 3 (ipykernel)",
   "language": "python",
   "name": "python3"
  },
  "language_info": {
   "codemirror_mode": {
    "name": "ipython",
    "version": 3
   },
   "file_extension": ".py",
   "mimetype": "text/x-python",
   "name": "python",
   "nbconvert_exporter": "python",
   "pygments_lexer": "ipython3",
   "version": "3.10.7"
  }
 },
 "nbformat": 4,
 "nbformat_minor": 5
}
