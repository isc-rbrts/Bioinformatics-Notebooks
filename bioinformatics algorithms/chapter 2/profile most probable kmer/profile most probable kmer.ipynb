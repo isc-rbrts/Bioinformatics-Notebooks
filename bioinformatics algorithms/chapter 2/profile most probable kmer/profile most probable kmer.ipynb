{
 "cells": [
  {
   "cell_type": "code",
   "execution_count": 1,
   "id": "3a6d3f81",
   "metadata": {},
   "outputs": [
    {
     "name": "stdout",
     "output_type": "stream",
     "text": [
      "[{'A': 0.182, 'C': 0.273, 'G': 0.288, 'T': 0.258}, {'A': 0.394, 'C': 0.303, 'G': 0.182, 'T': 0.121}, {'A': 0.227, 'C': 0.318, 'G': 0.152, 'T': 0.303}, {'A': 0.273, 'C': 0.212, 'G': 0.333, 'T': 0.182}, {'A': 0.227, 'C': 0.258, 'G': 0.318, 'T': 0.197}, {'A': 0.182, 'C': 0.242, 'G': 0.288, 'T': 0.288}, {'A': 0.212, 'C': 0.258, 'G': 0.197, 'T': 0.333}, {'A': 0.288, 'C': 0.242, 'G': 0.227, 'T': 0.242}, {'A': 0.197, 'C': 0.303, 'G': 0.197, 'T': 0.303}, {'A': 0.212, 'C': 0.152, 'G': 0.212, 'T': 0.424}, {'A': 0.212, 'C': 0.258, 'G': 0.227, 'T': 0.303}, {'A': 0.258, 'C': 0.197, 'G': 0.258, 'T': 0.288}, {'A': 0.288, 'C': 0.167, 'G': 0.258, 'T': 0.288}, {'A': 0.273, 'C': 0.167, 'G': 0.242, 'T': 0.318}, {'A': 0.288, 'C': 0.212, 'G': 0.273, 'T': 0.227}]\n",
      "GATGGATAGTTATTG\n"
     ]
    }
   ],
   "source": [
    "f = open(\"dataset_865382_3.txt\",\"r\")\n",
    "\n",
    "Text = f.readline()\n",
    "Text = Text[:len(Text) - 1]\n",
    "k = int(f.readline())\n",
    "freqs = []\n",
    "Nucleotides = [\"A\",\"C\",\"G\",\"T\"]\n",
    "for i in range(4):\n",
    "    freqs.append([float(x) for x in next(f).split()])\n",
    "    \n",
    "Profile = []\n",
    "for i in range(k):\n",
    "    Profile.append({})\n",
    "    for j in range(4):\n",
    "        Profile[i].update({Nucleotides[j]:freqs[j][i]})\n",
    "    \n",
    "print(Profile)\n",
    "    \n",
    "def ProfileMostProbableKmer(Text, k, Profile):\n",
    "    MostProbableKmer = \"\"\n",
    "    KmerProbability = 0\n",
    "    \n",
    "    for i in range(len(Text) - k + 1):\n",
    "        kmer = Text[i:i + k]\n",
    "        prob = 1\n",
    "        for n in range(len(kmer)):\n",
    "            prob = prob * Profile[n][kmer[n]]\n",
    "            \n",
    "        if prob > KmerProbability:\n",
    "            KmerProbability = prob\n",
    "            MostProbableKmer = kmer\n",
    "            \n",
    "    return MostProbableKmer\n",
    "            \n",
    "print(ProfileMostProbableKmer(Text, k, Profile))    \n",
    "\n",
    "f.close()"
   ]
  },
  {
   "cell_type": "code",
   "execution_count": null,
   "id": "d9c22aff",
   "metadata": {},
   "outputs": [],
   "source": []
  }
 ],
 "metadata": {
  "kernelspec": {
   "display_name": "Python 3 (ipykernel)",
   "language": "python",
   "name": "python3"
  },
  "language_info": {
   "codemirror_mode": {
    "name": "ipython",
    "version": 3
   },
   "file_extension": ".py",
   "mimetype": "text/x-python",
   "name": "python",
   "nbconvert_exporter": "python",
   "pygments_lexer": "ipython3",
   "version": "3.10.7"
  }
 },
 "nbformat": 4,
 "nbformat_minor": 5
}
