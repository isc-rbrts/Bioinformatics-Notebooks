{
 "cells": [
  {
   "cell_type": "code",
   "execution_count": 11,
   "id": "cdbbc66f",
   "metadata": {},
   "outputs": [
    {
     "name": "stdout",
     "output_type": "stream",
     "text": [
      "26\n"
     ]
    }
   ],
   "source": [
    "f = open(\"dataset_865361_61.txt\", \"r\")\n",
    "\n",
    "text = f.readline()\n",
    "pattern = f.readline()\n",
    "pattern = pattern[:len(pattern) - 1]\n",
    "\n",
    "def PatternCount(text, pattern):\n",
    "    count = 0\n",
    "    for i in range(0, len(text) - len(pattern) + 1):\n",
    "        if text[i:i + len(pattern)] == pattern:\n",
    "            count += 1\n",
    "    return count\n",
    "\n",
    "print(PatternCount(text, pattern))\n",
    "\n",
    "f.close()"
   ]
  },
  {
   "cell_type": "code",
   "execution_count": null,
   "id": "2005dc88",
   "metadata": {},
   "outputs": [],
   "source": []
  }
 ],
 "metadata": {
  "kernelspec": {
   "display_name": "Python 3 (ipykernel)",
   "language": "python",
   "name": "python3"
  },
  "language_info": {
   "codemirror_mode": {
    "name": "ipython",
    "version": 3
   },
   "file_extension": ".py",
   "mimetype": "text/x-python",
   "name": "python",
   "nbconvert_exporter": "python",
   "pygments_lexer": "ipython3",
   "version": "3.10.7"
  }
 },
 "nbformat": 4,
 "nbformat_minor": 5
}
