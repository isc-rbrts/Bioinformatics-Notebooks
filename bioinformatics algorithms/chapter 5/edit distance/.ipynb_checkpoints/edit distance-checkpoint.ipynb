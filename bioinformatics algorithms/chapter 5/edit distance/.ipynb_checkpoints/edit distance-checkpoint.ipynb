{
 "cells": [
  {
   "cell_type": "code",
   "execution_count": 5,
   "id": "95153856",
   "metadata": {},
   "outputs": [
    {
     "name": "stdout",
     "output_type": "stream",
     "text": [
      "337\n"
     ]
    }
   ],
   "source": [
    "f = open(\"dataset_865450_3.txt\",\"r\")\n",
    "\n",
    "v, w = (f.readline()).strip('\\n'), (f.readline()).strip('\\n')\n",
    "\n",
    "def EditDistance(v, w):\n",
    "    n = len(v) + 1\n",
    "    m = len(w) + 1\n",
    "    s = [[0]*(m) for i in range(n)]\n",
    "    for i in range(1, n):\n",
    "        s[i][0] = -1 * i\n",
    "    for j in range(1, m):\n",
    "        s[0][j] = -1 * j\n",
    "        \n",
    "    for i in range(1, n):\n",
    "        for j in range(1, m):\n",
    "            match = 0\n",
    "            if v[i-1] != w[j-1]:\n",
    "                match = -1\n",
    "            s[i][j] = max(s[i-1][j] - 1, s[i][j-1] - 1, s[i-1][j-1] + match)\n",
    "            \n",
    "    return -(s[n-1][m-1])\n",
    "    \n",
    "\n",
    "print(EditDistance(v,w))\n",
    "f.close()"
   ]
  }
 ],
 "metadata": {
  "kernelspec": {
   "display_name": "Python 3 (ipykernel)",
   "language": "python",
   "name": "python3"
  },
  "language_info": {
   "codemirror_mode": {
    "name": "ipython",
    "version": 3
   },
   "file_extension": ".py",
   "mimetype": "text/x-python",
   "name": "python",
   "nbconvert_exporter": "python",
   "pygments_lexer": "ipython3",
   "version": "3.10.7"
  }
 },
 "nbformat": 4,
 "nbformat_minor": 5
}
