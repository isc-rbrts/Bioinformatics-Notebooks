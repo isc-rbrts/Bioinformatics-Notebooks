{
 "cells": [
  {
   "cell_type": "code",
   "execution_count": 21,
   "id": "da176282",
   "metadata": {},
   "outputs": [
    {
     "data": {
      "text/plain": [
       "8433"
      ]
     },
     "execution_count": 21,
     "metadata": {},
     "output_type": "execute_result"
    }
   ],
   "source": [
    "from collections import defaultdict\n",
    "\n",
    "f = open(\"dataset_865469_4.txt\",\"r\")\n",
    "p, q = f.readline().split(')'), f.readline().split(')')\n",
    "f.close()\n",
    "P, Q = [], []\n",
    "for chromosome in p[:-1]:\n",
    "    P.append([int(x) for x in chromosome[1:].split()])\n",
    "for chromosome in q[:-1]:\n",
    "    Q.append([int(x) for x in chromosome[1:].split()])\n",
    "\n",
    "def TwoBreakDistance(P, Q):\n",
    "    graph = BreakPointGraph(P,Q)\n",
    "    trivial_graph = BreakPointGraph(Q, Q)\n",
    "    return Cycles(trivial_graph) - Cycles(graph)\n",
    "\n",
    "def BreakPointGraph(P, Q):\n",
    "    edges = ColoredEdges(P) + ColoredEdges(Q)\n",
    "    \n",
    "    graph = defaultdict(list)\n",
    "    for edge in edges:\n",
    "        graph[edge[0]].append(edge[1])\n",
    "        graph[edge[1]].append(edge[0])\n",
    "    \n",
    "    return graph\n",
    "\n",
    "def Cycles(graph):\n",
    "    cycles = 0\n",
    "    unused_vertices = []\n",
    "    for node in graph:\n",
    "        unused_vertices.append(node)\n",
    "    \n",
    "    while len(unused_vertices):\n",
    "        node = unused_vertices[0]\n",
    "        unused_vertices.remove(node)\n",
    "        curr = graph[node][0]\n",
    "        graph[node].remove(curr)\n",
    "        graph[curr].remove(node)\n",
    "        \n",
    "        while curr != node:\n",
    "            unused_vertices.remove(curr)\n",
    "            nxt = graph[curr][0]\n",
    "            graph[curr].remove(nxt)\n",
    "            graph[nxt].remove(curr)\n",
    "            curr = nxt\n",
    "        cycles += 1\n",
    "            \n",
    "    return cycles\n",
    "\n",
    "def ColoredEdges(P):\n",
    "    Edges = []\n",
    "    for chromosome in P:\n",
    "        Nodes = ChromosomeToCycle(chromosome)\n",
    "        for i in range(1,len(Nodes) - 2, 2):\n",
    "            Edges.append((Nodes[i], Nodes[i + 1]))\n",
    "            \n",
    "        Edges.append((Nodes[-1], Nodes[0]))\n",
    "    return Edges\n",
    "    \n",
    "def ChromosomeToCycle(chromosome):\n",
    "    Nodes = []\n",
    "    for i in chromosome:\n",
    "        if i > 0:\n",
    "            Nodes.append(2*i - 1)\n",
    "            Nodes.append(2*i)\n",
    "        else:\n",
    "            Nodes.append(-2*i)\n",
    "            Nodes.append(-2*i - 1)\n",
    "            \n",
    "    return Nodes\n",
    "\n",
    "TwoBreakDistance(P, Q)"
   ]
  }
 ],
 "metadata": {
  "kernelspec": {
   "display_name": "Python 3 (ipykernel)",
   "language": "python",
   "name": "python3"
  },
  "language_info": {
   "codemirror_mode": {
    "name": "ipython",
    "version": 3
   },
   "file_extension": ".py",
   "mimetype": "text/x-python",
   "name": "python",
   "nbconvert_exporter": "python",
   "pygments_lexer": "ipython3",
   "version": "3.10.7"
  }
 },
 "nbformat": 4,
 "nbformat_minor": 5
}
