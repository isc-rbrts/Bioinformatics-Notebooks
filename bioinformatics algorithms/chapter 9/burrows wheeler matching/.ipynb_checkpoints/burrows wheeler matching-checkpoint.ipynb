{
 "cells": [
  {
   "cell_type": "code",
   "execution_count": 1,
   "id": "931e2216",
   "metadata": {},
   "outputs": [
    {
     "name": "stdout",
     "output_type": "stream",
     "text": [
      "TCCTCTATGAGATCCTATTCTATGAAACCTTCA$GACCAAAATTCTCCGGC ['CCT', 'CAC', 'GAG', 'CAG', 'ATC']\n"
     ]
    }
   ],
   "source": [
    "f = open(\"sample.txt\")\n",
    "Transform = f.readline().strip('\\n')\n",
    "Patterns = [str(x) for x in next(f).split()]\n",
    "f.close()\n",
    "\n",
    "def BWMatching(LastColumn, Pattern, LastToFirst):\n",
    "    return"
   ]
  }
 ],
 "metadata": {
  "kernelspec": {
   "display_name": "Python 3 (ipykernel)",
   "language": "python",
   "name": "python3"
  },
  "language_info": {
   "codemirror_mode": {
    "name": "ipython",
    "version": 3
   },
   "file_extension": ".py",
   "mimetype": "text/x-python",
   "name": "python",
   "nbconvert_exporter": "python",
   "pygments_lexer": "ipython3",
   "version": "3.10.7"
  }
 },
 "nbformat": 4,
 "nbformat_minor": 5
}
