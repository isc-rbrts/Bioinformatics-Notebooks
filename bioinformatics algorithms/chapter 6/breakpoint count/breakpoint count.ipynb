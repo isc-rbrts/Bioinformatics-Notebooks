{
 "cells": [
  {
   "cell_type": "code",
   "execution_count": 2,
   "id": "8dee4047",
   "metadata": {},
   "outputs": [
    {
     "name": "stdout",
     "output_type": "stream",
     "text": [
      "179\n"
     ]
    }
   ],
   "source": [
    "f = open(\"dataset_865465_6.txt\",\"r\")\n",
    "P = [int(x) for x in next(f).split()]\n",
    "f.close()\n",
    "\n",
    "def BreakpointCount(P):\n",
    "    breakpoints = 0\n",
    "    for i in range(len(P)-1):\n",
    "        if P[i+1] - P[i] != 1:\n",
    "            breakpoints += 1\n",
    "            \n",
    "    if P[0] != 1:\n",
    "        breakpoints += 1\n",
    "    if P[-1] != len(P):\n",
    "        breakpoints += 1\n",
    "        \n",
    "    return breakpoints\n",
    "\n",
    "print(BreakpointCount(P))"
   ]
  }
 ],
 "metadata": {
  "kernelspec": {
   "display_name": "Python 3 (ipykernel)",
   "language": "python",
   "name": "python3"
  },
  "language_info": {
   "codemirror_mode": {
    "name": "ipython",
    "version": 3
   },
   "file_extension": ".py",
   "mimetype": "text/x-python",
   "name": "python",
   "nbconvert_exporter": "python",
   "pygments_lexer": "ipython3",
   "version": "3.10.7"
  }
 },
 "nbformat": 4,
 "nbformat_minor": 5
}
