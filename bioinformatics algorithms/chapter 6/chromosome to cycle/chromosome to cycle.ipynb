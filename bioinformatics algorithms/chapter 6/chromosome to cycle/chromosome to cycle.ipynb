{
 "cells": [
  {
   "cell_type": "code",
   "execution_count": 16,
   "id": "c09e6a32",
   "metadata": {},
   "outputs": [
    {
     "name": "stdout",
     "output_type": "stream",
     "text": [
      "(2 1 5 6 3 4)\n"
     ]
    }
   ],
   "source": [
    "f = open(\"sample.txt\",\"r\")\n",
    "c = f.readline().split(')')[0][1:]\n",
    "chromosome = [int(x) for x in c.split()]\n",
    "f.close()\n",
    "\n",
    "def ChromosomeToCycle(chromosome):\n",
    "    Nodes = []\n",
    "    for i in chromosome:\n",
    "        if i > 0:\n",
    "            Nodes.append(2*i - 1)\n",
    "            Nodes.append(2*i)\n",
    "        else:\n",
    "            Nodes.append(-2*i)\n",
    "            Nodes.append(-2*i - 1)\n",
    "            \n",
    "    return Nodes\n",
    "\n",
    "out = \"(\"\n",
    "for i in ChromosomeToCycle(chromosome):\n",
    "    out += str(i) + \" \"\n",
    "print(out.strip(\" \") + \")\")\n",
    "    \n",
    "\n",
    "            "
   ]
  }
 ],
 "metadata": {
  "kernelspec": {
   "display_name": "Python 3 (ipykernel)",
   "language": "python",
   "name": "python3"
  },
  "language_info": {
   "codemirror_mode": {
    "name": "ipython",
    "version": 3
   },
   "file_extension": ".py",
   "mimetype": "text/x-python",
   "name": "python",
   "nbconvert_exporter": "python",
   "pygments_lexer": "ipython3",
   "version": "3.10.7"
  }
 },
 "nbformat": 4,
 "nbformat_minor": 5
}
