{
 "cells": [
  {
   "cell_type": "code",
   "execution_count": 2,
   "id": "a77abf2f",
   "metadata": {},
   "outputs": [
    {
     "name": "stdout",
     "output_type": "stream",
     "text": [
      "60039 98409 129189 152283 152354 152411 163207 197028 200160 357976 376771 392723 532935 600085 622755 1065555\n"
     ]
    }
   ],
   "source": [
    "f = open(\"Vibrio_cholerae.txt\",\"r\")\n",
    "\n",
    "genome = f.readline()\n",
    "genome = genome[:len(genome) - 1]\n",
    "\n",
    "pattern = \"CTTGATCAT\"\n",
    "\n",
    "def PatternMatching(pattern, genome):\n",
    "    locations = []\n",
    "    \n",
    "    for i in range(0, len(genome) - len(pattern) + 1):\n",
    "        if genome[i:i + len(pattern)] == pattern:\n",
    "            locations.append(i)\n",
    "            \n",
    "    return locations\n",
    "\n",
    "out = \"\"\n",
    "for i in PatternMatching(pattern, genome):\n",
    "    out = out + str(i) + \" \"\n",
    "out = out[:len(out) - 1]\n",
    "\n",
    "print(out)\n",
    "\n",
    "f.close()"
   ]
  }
 ],
 "metadata": {
  "kernelspec": {
   "display_name": "Python 3 (ipykernel)",
   "language": "python",
   "name": "python3"
  },
  "language_info": {
   "codemirror_mode": {
    "name": "ipython",
    "version": 3
   },
   "file_extension": ".py",
   "mimetype": "text/x-python",
   "name": "python",
   "nbconvert_exporter": "python",
   "pygments_lexer": "ipython3",
   "version": "3.10.7"
  }
 },
 "nbformat": 4,
 "nbformat_minor": 5
}
