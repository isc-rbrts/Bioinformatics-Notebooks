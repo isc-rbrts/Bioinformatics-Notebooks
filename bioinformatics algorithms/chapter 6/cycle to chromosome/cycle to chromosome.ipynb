{
 "cells": [
  {
   "cell_type": "code",
   "execution_count": 9,
   "id": "9ee95cff",
   "metadata": {},
   "outputs": [
    {
     "name": "stdout",
     "output_type": "stream",
     "text": [
      "(-1 -2 -3 +4 -5 +6 +7 +8 -9 +10 -11 -12 +13 -14 -15 -16 +17 +18 -19 -20 +21 -22 -23 -24 -25 +26 -27 +28 +29 +30 -31 +32 +33 +34 +35 -36 -37 +38 -39 -40 -41 +42 +43 +44 +45 +46 +47 -48 -49 -50 +51 +52 -53 +54 +55 +56 -57 -58 +59 +60)\n"
     ]
    }
   ],
   "source": [
    "f = open(\"dataset_865472_5.txt\",\"r\")\n",
    "n = f.readline().split(')')[0][1:]\n",
    "Nodes = [int(x) for x in n.split()]\n",
    "\n",
    "def CycleToChromosome(Nodes):\n",
    "    chromosome = []\n",
    "    for i in range(0, len(Nodes), 2):\n",
    "        if Nodes[i] < Nodes[i+1]:\n",
    "            chromosome.append(int(Nodes[i+1]/2))\n",
    "        else:\n",
    "            chromosome.append(-int(Nodes[i]/2))\n",
    "            \n",
    "    return chromosome\n",
    "\n",
    "out = \"(\"\n",
    "for i in CycleToChromosome(Nodes):\n",
    "    if i > 0:\n",
    "        out += \"+\" + str(i) + \" \"\n",
    "    else:\n",
    "        out += str(i) + \" \"\n",
    "print(out.strip(\" \") + \")\")\n",
    "    "
   ]
  }
 ],
 "metadata": {
  "kernelspec": {
   "display_name": "Python 3 (ipykernel)",
   "language": "python",
   "name": "python3"
  },
  "language_info": {
   "codemirror_mode": {
    "name": "ipython",
    "version": 3
   },
   "file_extension": ".py",
   "mimetype": "text/x-python",
   "name": "python",
   "nbconvert_exporter": "python",
   "pygments_lexer": "ipython3",
   "version": "3.10.7"
  }
 },
 "nbformat": 4,
 "nbformat_minor": 5
}
