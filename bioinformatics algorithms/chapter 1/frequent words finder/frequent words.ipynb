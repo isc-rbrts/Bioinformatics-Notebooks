{
 "cells": [
  {
   "cell_type": "code",
   "execution_count": 1,
   "id": "f575ce24",
   "metadata": {},
   "outputs": [
    {
     "name": "stdout",
     "output_type": "stream",
     "text": [
      "['GCACCGTACCCCGT', 'CACCGTACCCCGTG', 'ACCGTACCCCGTGC', 'CCGTACCCCGTGCG', 'CGTACCCCGTGCGA', 'GTACCCCGTGCGAC']\n"
     ]
    }
   ],
   "source": [
    "from collections import defaultdict\n",
    "\n",
    "f = open(\"dataset_865361_13.txt\",\"r\")\n",
    "\n",
    "text = f.readline()\n",
    "k = int(f.readline())\n",
    "\n",
    "def FrequencyTable(Text, k):\n",
    "    freqMap = defaultdict(lambda: 0)\n",
    "    n = len(Text)\n",
    "    \n",
    "    for i in range(0, n - k + 1):\n",
    "        pattern = Text[i:i + k]\n",
    "        freqMap[pattern] += 1\n",
    "    return freqMap\n",
    "\n",
    "def MaxMap(freqMap):\n",
    "    maxFreq = float('-inf')\n",
    "    for pattern in freqMap:\n",
    "        if freqMap[pattern] > maxFreq:\n",
    "            maxFreq = freqMap[pattern]\n",
    "    return maxFreq\n",
    "        \n",
    "def BetterFrequentWords(Text, k):\n",
    "    freqPatterns = []\n",
    "    freqMap = FrequencyTable(Text, k)\n",
    "    maxFreq = MaxMap(freqMap)\n",
    "    for pattern in freqMap:\n",
    "        if freqMap[pattern] == maxFreq:\n",
    "            freqPatterns.append(pattern)\n",
    "        \n",
    "    return freqPatterns\n",
    "\n",
    "print(BetterFrequentWords(text, k))\n",
    "\n",
    "f.close()"
   ]
  },
  {
   "cell_type": "code",
   "execution_count": null,
   "id": "c69f2c61",
   "metadata": {},
   "outputs": [],
   "source": []
  }
 ],
 "metadata": {
  "kernelspec": {
   "display_name": "Python 3 (ipykernel)",
   "language": "python",
   "name": "python3"
  },
  "language_info": {
   "codemirror_mode": {
    "name": "ipython",
    "version": 3
   },
   "file_extension": ".py",
   "mimetype": "text/x-python",
   "name": "python",
   "nbconvert_exporter": "python",
   "pygments_lexer": "ipython3",
   "version": "3.10.7"
  }
 },
 "nbformat": 4,
 "nbformat_minor": 5
}
