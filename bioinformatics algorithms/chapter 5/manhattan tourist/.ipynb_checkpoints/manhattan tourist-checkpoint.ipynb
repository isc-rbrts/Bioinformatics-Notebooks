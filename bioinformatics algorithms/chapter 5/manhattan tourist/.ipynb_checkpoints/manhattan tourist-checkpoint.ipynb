{
 "cells": [
  {
   "cell_type": "code",
   "execution_count": 17,
   "id": "4a6d878d",
   "metadata": {},
   "outputs": [
    {
     "name": "stdout",
     "output_type": "stream",
     "text": [
      "34\n"
     ]
    }
   ],
   "source": [
    "f = open(\"sample.txt\",\"r\")\n",
    "\n",
    "n, m = [int(x) for x in next(f).split()]\n",
    "Down = list()\n",
    "Right = list()\n",
    "dash_flag = 0\n",
    "while True:\n",
    "    line = f.readline()\n",
    "    if not line:\n",
    "        break\n",
    "    if line[0] == '-':\n",
    "        dash_flag = 1\n",
    "        continue\n",
    "    \n",
    "    if not dash_flag:\n",
    "        Down.append([int(x) for x in line.split()])\n",
    "    else:\n",
    "        Right.append([int(x) for x in line.split()])\n",
    "\n",
    "def LongestPathLength(n, m, Down, Right):\n",
    "    n += 1\n",
    "    m += 1\n",
    "    s = [[0]*m for i in range(n)]\n",
    "    for row in range(1, n):\n",
    "        s[row][0] = s[row - 1][0] + Down[row - 1][0]\n",
    "    for col in range(1, m):\n",
    "        s[0][col] = s[0][col - 1] + Right[0][col - 1]\n",
    "        \n",
    "    for row in range(1,n):\n",
    "        for col in range(1,m):\n",
    "            s[row][col] = max((s[row - 1][col] + Down[row - 1][col]), (s[row][col - 1] + Right[row][col - 1]))\n",
    "    \n",
    "    return s[n - 1][m - 1]\n",
    "        \n",
    "print(LongestPathLength(n, m, Down, Right))\n",
    "\n",
    "f.close()    "
   ]
  }
 ],
 "metadata": {
  "kernelspec": {
   "display_name": "Python 3 (ipykernel)",
   "language": "python",
   "name": "python3"
  },
  "language_info": {
   "codemirror_mode": {
    "name": "ipython",
    "version": 3
   },
   "file_extension": ".py",
   "mimetype": "text/x-python",
   "name": "python",
   "nbconvert_exporter": "python",
   "pygments_lexer": "ipython3",
   "version": "3.10.7"
  }
 },
 "nbformat": 4,
 "nbformat_minor": 5
}
