{
 "cells": [
  {
   "cell_type": "code",
   "execution_count": 1,
   "id": "07e74173",
   "metadata": {},
   "outputs": [
    {
     "name": "stdout",
     "output_type": "stream",
     "text": [
      "['TATAT', 'ATATA']\n"
     ]
    }
   ],
   "source": [
    "from collections import defaultdict\n",
    "\n",
    "f = open(\"dataset_865367_10.txt\",\"r\")\n",
    "\n",
    "text = f.readline()\n",
    "k, d = [int(x) for x in next(f).split()]\n",
    "        \n",
    "def MMRCFrequentWords(text, k, d):\n",
    "    freqPatterns = []\n",
    "    freqMap = defaultdict(lambda: 0)\n",
    "    \n",
    "    for i in range(len(text) - k + 1):\n",
    "        pattern = text[i:i + k]\n",
    "        neighbors = Neighbors(pattern, d)\n",
    "        for neighbor in neighbors:\n",
    "            freqMap[neighbor] += 1\n",
    "            freqMap[ReverseComplement(neighbor)] += 1\n",
    "    \n",
    "    maxFreq = MaxMap(freqMap)\n",
    "    for pattern in freqMap:\n",
    "        if freqMap[pattern] == maxFreq:\n",
    "            freqPatterns.append(pattern)\n",
    "            \n",
    "    return freqPatterns   \n",
    "\n",
    "def MaxMap(freqMap):\n",
    "    maxFreq = float('-inf')\n",
    "    for pattern in freqMap:\n",
    "        if freqMap[pattern] > maxFreq:\n",
    "            maxFreq = freqMap[pattern]\n",
    "    return maxFreq  \n",
    "  \n",
    "def Neighbors(pattern, d):\n",
    "    if d == 0:\n",
    "        return [pattern]\n",
    "    if len(pattern) == 1:\n",
    "        return [\"A\", \"C\", \"T\", \"G\"]\n",
    "    \n",
    "    Neighborhood = set()\n",
    "    SuffixNeighbors = Neighbors(pattern[1:], d)\n",
    "    \n",
    "    for string in SuffixNeighbors:\n",
    "        if HammingDistance(string, pattern[1:]) < d:\n",
    "            for nucleotide in [\"A\", \"C\", \"T\", \"G\"]:\n",
    "                Neighborhood.add((nucleotide + string))\n",
    "        else:\n",
    "            Neighborhood.add((pattern[:1] + string))\n",
    "    return Neighborhood      \n",
    "        \n",
    "def HammingDistance(string1, string2):\n",
    "    if len(string1) != len(string2):\n",
    "        return -1\n",
    "    \n",
    "    dist = 0\n",
    "    \n",
    "    for i in range(len(string1)):\n",
    "        if string1[i] != string2[i]:\n",
    "            dist +=1\n",
    "            \n",
    "    return dist\n",
    "        \n",
    "def ReverseComplement(pattern):\n",
    "    complement = \"\"\n",
    "    complements = {'A':'T', 'T':'A', 'C':'G', 'G':'C'}\n",
    "    \n",
    "    for c in pattern:\n",
    "        complement = complements[c] + complement\n",
    "    return complement\n",
    "\n",
    "print(MMRCFrequentWords(text, k, d))\n",
    "\n",
    "f.close()"
   ]
  }
 ],
 "metadata": {
  "kernelspec": {
   "display_name": "Python 3 (ipykernel)",
   "language": "python",
   "name": "python3"
  },
  "language_info": {
   "codemirror_mode": {
    "name": "ipython",
    "version": 3
   },
   "file_extension": ".py",
   "mimetype": "text/x-python",
   "name": "python",
   "nbconvert_exporter": "python",
   "pygments_lexer": "ipython3",
   "version": "3.10.7"
  }
 },
 "nbformat": 4,
 "nbformat_minor": 5
}
